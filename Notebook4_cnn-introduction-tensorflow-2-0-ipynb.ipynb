{
 "cells": [
  {
   "cell_type": "markdown",
   "metadata": {
    "papermill": {
     "duration": 0.022433,
     "end_time": "2020-10-11T11:56:13.449330",
     "exception": false,
     "start_time": "2020-10-11T11:56:13.426897",
     "status": "completed"
    },
    "tags": []
   },
   "source": [
    "**Introduction to CNN**\n",
    "- ConvNet\n",
    "- Max Pooling\n",
    "- Fully Connected Layer\n",
    "- Softmax\n",
    "\n",
    "### > **Do upvote if you find this notebook helpful.****"
   ]
  },
  {
   "cell_type": "code",
   "execution_count": 1,
   "metadata": {
    "_cell_guid": "b1076dfc-b9ad-4769-8c92-a6c4dae69d19",
    "_uuid": "8f2839f25d086af736a60e9eeb907d3b93b6e0e5",
    "execution": {
     "iopub.execute_input": "2020-10-11T11:56:13.502227Z",
     "iopub.status.busy": "2020-10-11T11:56:13.501446Z",
     "iopub.status.idle": "2020-10-11T11:56:20.110482Z",
     "shell.execute_reply": "2020-10-11T11:56:20.111405Z"
    },
    "papermill": {
     "duration": 6.639081,
     "end_time": "2020-10-11T11:56:20.111658",
     "exception": false,
     "start_time": "2020-10-11T11:56:13.472577",
     "status": "completed"
    },
    "tags": []
   },
   "outputs": [
    {
     "name": "stdout",
     "output_type": "stream",
     "text": [
      "2.3.0\n"
     ]
    }
   ],
   "source": [
    "##importing required libraries\n",
    "import math\n",
    "import numpy as np\n",
    "import h5py\n",
    "import matplotlib.pyplot as plt\n",
    "import scipy\n",
    "from PIL import Image\n",
    "from scipy import ndimage\n",
    "import tensorflow as tf\n",
    "from tensorflow.python.framework import ops\n",
    "get_ipython().magic('matplotlib inline')\n",
    "np.random.seed(1)\n",
    "import cv2\n",
    "import numpy as np\n",
    "import os\n",
    "import pandas as pd\n",
    "from sklearn.model_selection import train_test_split\n",
    "##printing version of tensorflow\n",
    "print(tf.__version__)"
   ]
  },
  {
   "cell_type": "markdown",
   "metadata": {
    "papermill": {
     "duration": 0.024033,
     "end_time": "2020-10-11T11:56:20.161574",
     "exception": false,
     "start_time": "2020-10-11T11:56:20.137541",
     "status": "completed"
    },
    "tags": []
   },
   "source": [
    "## Read data and converting pandas dataframe into images array\n",
    "Splitting labeled data into train and val"
   ]
  },
  {
   "cell_type": "code",
   "execution_count": 2,
   "metadata": {
    "execution": {
     "iopub.execute_input": "2020-10-11T11:56:20.216803Z",
     "iopub.status.busy": "2020-10-11T11:56:20.216156Z",
     "iopub.status.idle": "2020-10-11T11:56:25.192778Z",
     "shell.execute_reply": "2020-10-11T11:56:25.191870Z"
    },
    "papermill": {
     "duration": 5.007816,
     "end_time": "2020-10-11T11:56:25.192891",
     "exception": false,
     "start_time": "2020-10-11T11:56:20.185075",
     "status": "completed"
    },
    "tags": []
   },
   "outputs": [
    {
     "name": "stdout",
     "output_type": "stream",
     "text": [
      "(60000, 785)\n",
      "   label  1x1  1x2  1x3  1x4  1x5  1x6  1x7  1x8  1x9  ...  28x19  28x20  \\\n",
      "0      5    0    0    0    0    0    0    0    0    0  ...      0      0   \n",
      "1      0    0    0    0    0    0    0    0    0    0  ...      0      0   \n",
      "2      4    0    0    0    0    0    0    0    0    0  ...      0      0   \n",
      "3      1    0    0    0    0    0    0    0    0    0  ...      0      0   \n",
      "4      9    0    0    0    0    0    0    0    0    0  ...      0      0   \n",
      "\n",
      "   28x21  28x22  28x23  28x24  28x25  28x26  28x27  28x28  \n",
      "0      0      0      0      0      0      0      0      0  \n",
      "1      0      0      0      0      0      0      0      0  \n",
      "2      0      0      0      0      0      0      0      0  \n",
      "3      0      0      0      0      0      0      0      0  \n",
      "4      0      0      0      0      0      0      0      0  \n",
      "\n",
      "[5 rows x 785 columns]\n",
      "(10000, 785)\n",
      "   label  1x1  1x2  1x3  1x4  1x5  1x6  1x7  1x8  1x9  ...  28x19  28x20  \\\n",
      "0      7    0    0    0    0    0    0    0    0    0  ...      0      0   \n",
      "1      2    0    0    0    0    0    0    0    0    0  ...      0      0   \n",
      "2      1    0    0    0    0    0    0    0    0    0  ...      0      0   \n",
      "3      0    0    0    0    0    0    0    0    0    0  ...      0      0   \n",
      "4      4    0    0    0    0    0    0    0    0    0  ...      0      0   \n",
      "\n",
      "   28x21  28x22  28x23  28x24  28x25  28x26  28x27  28x28  \n",
      "0      0      0      0      0      0      0      0      0  \n",
      "1      0      0      0      0      0      0      0      0  \n",
      "2      0      0      0      0      0      0      0      0  \n",
      "3      0      0      0      0      0      0      0      0  \n",
      "4      0      0      0      0      0      0      0      0  \n",
      "\n",
      "[5 rows x 785 columns]\n"
     ]
    }
   ],
   "source": [
    "train_path=\"../input/mnist-in-csv/mnist_train.csv\"\n",
    "test_path=\"../input/mnist-in-csv/mnist_test.csv\"\n",
    "train = pd.read_csv(train_path)\n",
    "print(train.shape)\n",
    "print(train.head())\n",
    "test= pd.read_csv(test_path)\n",
    "print(test.shape)\n",
    "print(test.head())\n"
   ]
  },
  {
   "cell_type": "code",
   "execution_count": 3,
   "metadata": {
    "_cell_guid": "79c7e3d0-c299-4dcb-8224-4455121ee9b0",
    "_uuid": "d629ff2d2480ee46fbb7e2d37f6b5fab8052498a",
    "execution": {
     "iopub.execute_input": "2020-10-11T11:56:25.384854Z",
     "iopub.status.busy": "2020-10-11T11:56:25.366317Z",
     "iopub.status.idle": "2020-10-11T11:56:25.387676Z",
     "shell.execute_reply": "2020-10-11T11:56:25.387134Z"
    },
    "papermill": {
     "duration": 0.17135,
     "end_time": "2020-10-11T11:56:25.387847",
     "exception": false,
     "start_time": "2020-10-11T11:56:25.216497",
     "status": "completed"
    },
    "tags": []
   },
   "outputs": [],
   "source": [
    "# put labels into y_train variable\n",
    "y_orig1 = train[\"label\"]\n",
    "y_orig1_test = test[\"label\"]\n",
    "# Drop 'label' column\n",
    "X_orig2 = train.drop(labels = [\"label\"],axis = 1,inplace=False)\n",
    "X_orig2_test = test.drop(labels = [\"label\"],axis = 1,inplace=False)\n"
   ]
  },
  {
   "cell_type": "code",
   "execution_count": 4,
   "metadata": {
    "execution": {
     "iopub.execute_input": "2020-10-11T11:56:25.440715Z",
     "iopub.status.busy": "2020-10-11T11:56:25.440044Z",
     "iopub.status.idle": "2020-10-11T11:56:26.014922Z",
     "shell.execute_reply": "2020-10-11T11:56:26.015533Z"
    },
    "papermill": {
     "duration": 0.604436,
     "end_time": "2020-10-11T11:56:26.015683",
     "exception": false,
     "start_time": "2020-10-11T11:56:25.411247",
     "status": "completed"
    },
    "tags": []
   },
   "outputs": [
    {
     "data": {
      "text/plain": [
       "1    1135\n",
       "2    1032\n",
       "7    1028\n",
       "3    1010\n",
       "9    1009\n",
       "4     982\n",
       "0     980\n",
       "8     974\n",
       "6     958\n",
       "5     892\n",
       "Name: label, dtype: int64"
      ]
     },
     "execution_count": 4,
     "metadata": {},
     "output_type": "execute_result"
    },
    {
     "data": {
      "image/png": "[encoded data removed]",
      "text/plain": [
       "<Figure size 1080x504 with 1 Axes>"
      ]
     },
     "metadata": {
      "needs_background": "light"
     },
     "output_type": "display_data"
    },
    {
     "data": {
      "image/png": "[encoded data removed]",
      "text/plain": [
       "<Figure size 1080x504 with 1 Axes>"
      ]
     },
     "metadata": {
      "needs_background": "light"
     },
     "output_type": "display_data"
    }
   ],
   "source": [
    "# visualize number of digits classes\n",
    "import seaborn as sns\n",
    "plt.figure(figsize=(15,7))\n",
    "g = sns.countplot(y_orig1, palette=\"icefire\")\n",
    "plt.title(\"Number of digit classes\")\n",
    "y_orig1.value_counts()\n",
    "\n",
    "# visualize number of digits classes\n",
    "import seaborn as sns\n",
    "plt.figure(figsize=(15,7))\n",
    "g = sns.countplot(y_orig1_test, palette=\"icefire\")\n",
    "plt.title(\"Number of digit classes\")\n",
    "y_orig1_test.value_counts()\n"
   ]
  },
  {
   "cell_type": "code",
   "execution_count": 5,
   "metadata": {
    "execution": {
     "iopub.execute_input": "2020-10-11T11:56:26.082712Z",
     "iopub.status.busy": "2020-10-11T11:56:26.080971Z",
     "iopub.status.idle": "2020-10-11T11:56:26.195980Z",
     "shell.execute_reply": "2020-10-11T11:56:26.196581Z"
    },
    "papermill": {
     "duration": 0.150939,
     "end_time": "2020-10-11T11:56:26.196729",
     "exception": false,
     "start_time": "2020-10-11T11:56:26.045790",
     "status": "completed"
    },
    "tags": []
   },
   "outputs": [
    {
     "data": {
      "image/png": "[encoded data removed]",
      "text/plain": [
       "<Figure size 432x288 with 1 Axes>"
      ]
     },
     "metadata": {
      "needs_background": "light"
     },
     "output_type": "display_data"
    },
    {
     "data": {
      "image/png": "[encoded data removed]",
      "text/plain": [
       "<Figure size 432x288 with 1 Axes>"
      ]
     },
     "metadata": {
      "needs_background": "light"
     },
     "output_type": "display_data"
    }
   ],
   "source": [
    "# Example of a picture\n",
    "index = 1000\n",
    "img = X_orig2.iloc[index].values\n",
    "img = img.reshape((28,28))\n",
    "plt.imshow(img,cmap='gray')\n",
    "plt.title(y_orig1[index])\n",
    "plt.axis(\"off\")\n",
    "plt.show()\n",
    "\n",
    "# Example of a picture\n",
    "index = 1000\n",
    "img = X_orig2_test.iloc[index].values\n",
    "img = img.reshape((28,28))\n",
    "plt.imshow(img,cmap='gray')\n",
    "plt.title(y_orig1_test[index])\n",
    "plt.axis(\"off\")\n",
    "plt.show()\n"
   ]
  },
  {
   "cell_type": "markdown",
   "metadata": {
    "papermill": {
     "duration": 0.025906,
     "end_time": "2020-10-11T11:56:26.252830",
     "exception": false,
     "start_time": "2020-10-11T11:56:26.226924",
     "status": "completed"
    },
    "tags": []
   },
   "source": [
    "## Normaliation, Reshape and Label Encoding\n",
    "- Normalization\n",
    "  - We perform a grayscale normalization to reduce the effect of illumination's differences.\n",
    "  - If we perform normalization, CNN works faster.\n",
    "- Reshape\n",
    "  - Train and test images (28 x 28)\n",
    "  - We reshape all data to 28x28x1 3D matrices.\n",
    "  - Keras needs an extra dimension in the end which correspond to channels. Our images are gray scaled so it use only one channel.\n",
    "- Label Encoding\n",
    "  - Encode labels to one hot vectors\n",
    "    - 2 => [0,0,1,0,0,0,0,0,0,0]\n",
    "    - 4 => [0,0,0,0,1,0,0,0,0,0]"
   ]
  },
  {
   "cell_type": "code",
   "execution_count": 6,
   "metadata": {
    "execution": {
     "iopub.execute_input": "2020-10-11T11:56:26.315003Z",
     "iopub.status.busy": "2020-10-11T11:56:26.314138Z",
     "iopub.status.idle": "2020-10-11T11:56:26.569259Z",
     "shell.execute_reply": "2020-10-11T11:56:26.568319Z"
    },
    "papermill": {
     "duration": 0.289847,
     "end_time": "2020-10-11T11:56:26.569382",
     "exception": false,
     "start_time": "2020-10-11T11:56:26.279535",
     "status": "completed"
    },
    "tags": []
   },
   "outputs": [
    {
     "name": "stdout",
     "output_type": "stream",
     "text": [
      "x_orig1 shape:  (60000, 784)\n",
      "x_orig1_test shape:  (10000, 784)\n",
      "x_orig shape:  (60000, 28, 28, 1)\n",
      "x_orig_test shape:  (10000, 28, 28, 1)\n",
      "old y_orig1 shape:  (60000,)\n",
      "y_orig shape:  (60000, 10)\n",
      "old y_orig1_test shape:  (10000,)\n",
      "y_orig_test shape:  (10000, 10)\n"
     ]
    }
   ],
   "source": [
    "# Normalize the data\n",
    "X_orig1 = X_orig2 / 255.0\n",
    "X_orig1_test = X_orig2_test / 255.0\n",
    "print(\"x_orig1 shape: \",X_orig1.shape)\n",
    "print(\"x_orig1_test shape: \",X_orig1_test.shape)\n",
    "\n",
    "# Reshape\n",
    "X_orig = X_orig1.values.reshape(-1,28,28,1)\n",
    "X_orig_test = X_orig1_test.values.reshape(-1,28,28,1)\n",
    "print(\"x_orig shape: \",X_orig.shape)\n",
    "print(\"x_orig_test shape: \",X_orig_test.shape)\n",
    "\n",
    "# Label Encoding \n",
    "from keras.utils.np_utils import to_categorical # convert to one-hot-encoding\n",
    "print(\"old y_orig1 shape: \", y_orig1.shape)\n",
    "y_orig = to_categorical(y_orig1, num_classes = 10)\n",
    "print(\"y_orig shape: \",y_orig.shape)\n",
    "\n",
    "print(\"old y_orig1_test shape: \", y_orig1_test.shape)\n",
    "y_orig_test = to_categorical(y_orig1_test, num_classes = 10)\n",
    "print(\"y_orig_test shape: \",y_orig_test.shape)\n"
   ]
  },
  {
   "cell_type": "markdown",
   "metadata": {
    "papermill": {
     "duration": 0.026862,
     "end_time": "2020-10-11T11:56:26.624452",
     "exception": false,
     "start_time": "2020-10-11T11:56:26.597590",
     "status": "completed"
    },
    "tags": []
   },
   "source": [
    "## Train Test split\n",
    "- We split the data into train and test sets.\n",
    "- test size is 20%.\n",
    "- train size is 80%.\n"
   ]
  },
  {
   "cell_type": "code",
   "execution_count": 7,
   "metadata": {
    "execution": {
     "iopub.execute_input": "2020-10-11T11:56:26.687634Z",
     "iopub.status.busy": "2020-10-11T11:56:26.686958Z",
     "iopub.status.idle": "2020-10-11T11:56:27.250715Z",
     "shell.execute_reply": "2020-10-11T11:56:27.249959Z"
    },
    "papermill": {
     "duration": 0.599056,
     "end_time": "2020-10-11T11:56:27.250851",
     "exception": false,
     "start_time": "2020-10-11T11:56:26.651795",
     "status": "completed"
    },
    "tags": []
   },
   "outputs": [
    {
     "name": "stdout",
     "output_type": "stream",
     "text": [
      "x_train shape (48000, 28, 28, 1)\n",
      "x_val shape (12000, 28, 28, 1)\n",
      "y_train shape (48000, 10)\n",
      "y_val shape (12000, 10)\n"
     ]
    }
   ],
   "source": [
    "# Split the train and the validation set for the fitting\n",
    "from sklearn.model_selection import train_test_split\n",
    "X_train, X_val, Y_train, Y_val = train_test_split(X_orig, y_orig, test_size = 0.2, random_state=42)\n",
    "print(\"x_train shape\",X_train.shape)\n",
    "print(\"x_val shape\",X_val.shape)\n",
    "print(\"y_train shape\",Y_train.shape)\n",
    "print(\"y_val shape\",Y_val.shape)\n"
   ]
  },
  {
   "cell_type": "code",
   "execution_count": 8,
   "metadata": {
    "execution": {
     "iopub.execute_input": "2020-10-11T11:56:27.322473Z",
     "iopub.status.busy": "2020-10-11T11:56:27.316213Z",
     "iopub.status.idle": "2020-10-11T11:56:27.474590Z",
     "shell.execute_reply": "2020-10-11T11:56:27.475135Z"
    },
    "papermill": {
     "duration": 0.196731,
     "end_time": "2020-10-11T11:56:27.475271",
     "exception": false,
     "start_time": "2020-10-11T11:56:27.278540",
     "status": "completed"
    },
    "tags": []
   },
   "outputs": [
    {
     "name": "stdout",
     "output_type": "stream",
     "text": [
      "[1. 0. 0. 0. 0. 0. 0. 0. 0. 0.]\n"
     ]
    },
    {
     "data": {
      "image/png": "[encoded data removed]",
      "text/plain": [
       "<Figure size 432x288 with 1 Axes>"
      ]
     },
     "metadata": {
      "needs_background": "light"
     },
     "output_type": "display_data"
    }
   ],
   "source": [
    "# Some examples\n",
    "index=1\n",
    "print(Y_train[index])\n",
    "plt.imshow(X_train[index][:,:,0],cmap='gray')\n",
    "plt.show()\n"
   ]
  },
  {
   "cell_type": "markdown",
   "metadata": {
    "papermill": {
     "duration": 0.028861,
     "end_time": "2020-10-11T11:56:27.533886",
     "exception": false,
     "start_time": "2020-10-11T11:56:27.505025",
     "status": "completed"
    },
    "tags": []
   },
   "source": [
    "## Model -  Convolutional Neural Network"
   ]
  },
  {
   "cell_type": "markdown",
   "metadata": {
    "papermill": {
     "duration": 0.028263,
     "end_time": "2020-10-11T11:56:27.591957",
     "exception": false,
     "start_time": "2020-10-11T11:56:27.563694",
     "status": "completed"
    },
    "tags": []
   },
   "source": [
    "### Convoluation Operation\n",
    "- We have some image and feature detector(3*3)\n",
    "- Feature detector does not need to be 3 by 3 matrix. It can be 5 by 5 or 7 by 7.\n",
    "- Feature detector = kernel = filter\n",
    "- Feauture detector detects features like edges or convex shapes. Example, if out input is dog, feature detector can detect features like ear or tail of the dog.\n",
    "- feature map = conv(input image, feature detector). Element wise multiplication of matrices.\n",
    "- feature map = convolved feature\n",
    "- Stride = navigating in input image.\n",
    "- We reduce the size of image by setting the value of stride more than 1. This is important because code runs faster but we loose information.\n",
    "- We create multiple feature maps because we use multiple feature detectors(filters).\n",
    "- After having convolution layer we use ReLU to break up linearity.\n",
    "- **tf.nn.conv2d(X,W, strides = [1,s,s,1], padding = 'SAME'):** given an input $X$ and a group of filters $W$, this function convolves $W$'s filters on X. The third parameter ([1,s,s,1]) represents the strides for each dimension of the input (m, n_H_prev, n_W_prev, n_C_prev). Normally, you'll choose a stride of 1 for the number of examples (the first value) and for the channels (the fourth value), which is why we wrote the value as `[1,s,s,1]`. You can read the full documentation on [conv2d](https://www.tensorflow.org/api_docs/python/tf/keras/layers/Conv2D).\n",
    "\n",
    "![picture](https://miro.medium.com/max/1462/1*ROh_38pysewuh6fVPQpxFQ.png)\n",
    "\n",
    "\n",
    "### Same Padding\n",
    "- As we keep applying conv layers, the size of the volume will decrease faster than we would like. In the early layers of our network, we want to preserve as much information about the original input volume so that we can extract those low level features.\n",
    "- input size and output size are same.\n",
    "\n",
    "![picture](https://miro.medium.com/max/666/1*noYcUAa_P8nRilg3Lt_nuA.png)\n",
    "\n",
    "\n",
    "### Max Pooling\n",
    "- It makes down-sampling or sub-sampling (Reduces the number of parameters)\n",
    "- It makes the detection of features invariant to scale or orientation changes.\n",
    "- It reduce the amount of parameters and computation in the network, and hence to also control overfitting.\n",
    "- **tf.keras.layers.MaxPool3D(pool_size=(2, 2, 2), strides=None,padding='valid', data_format=None)** given an input A, this function uses a window of size (f, f) and strides of size (s, s) to carry out max pooling over each window.  For max pooling, we usually operate on a single example at a time and a single channel at a time.  So the first and fourth value in `[1,f,f,1]` are both 1.  You can read the full documentation on [max_pool](https://www.tensorflow.org/api_docs/python/tf/keras/layers/MaxPool3D).\n",
    "\n",
    "![picture](https://media.geeksforgeeks.org/wp-content/uploads/20190721025744/Screenshot-2019-07-21-at-2.57.13-AM.png)\n",
    "\n",
    "\n",
    "### Flattening\n",
    "- For example, given a tensor with dimensions [100,2,3,4], it flattens the tensor to be of shape [100, 24], where 24 = 2 * 3 * 4.  You can read the full documentation on [flatten](https://www.tensorflow.org/api_docs/python/tf/keras/layers/Flatten).\n",
    "\n",
    "![picture](https://sds-platform-private.s3-us-east-2.amazonaws.com/uploads/73_blog_image_2.png)\n",
    "\n",
    "\n",
    "### Fully Connected(FC)/Dense\n",
    "- Neurons in a fully connected layer have connections to all activations in the previous layer\n",
    "- Artificial Neural Network\n",
    "- **tf.keras.layers.Dense(units, activation=None, use_bias=True, kernel_initializer='glorot_uniform',bias_initializer='zeros',kernel_regularizer=None, bias_regularizer=None,activity_regularizer=None,kernel_constraint=None, bias_constraint=None:** \n",
    "- given the flattened input,F, it returns the output computed using a fully connected layer. You can read the full documentation on [fully_connected](https://www.tensorflow.org/api_docs/python/tf/keras/layers/Dense).\n",
    "\n",
    "![picture](https://static.packt-cdn.com/products/9781788996242/graphics/451a22fa-7568-4602-a522-e2dd3826e53e.png)\n",
    "\n",
    "\n",
    "### Using Keras\n",
    "- Implement the `forward_propagation` function below to build the following model: `CONV2D -> MAXPOOL -> CONV2D -> MAXPOOL -> FLATTEN -> FULLYCONNECTED -> FULLYCONNECTED`. You should use the functions above."
   ]
  },
  {
   "cell_type": "code",
   "execution_count": 9,
   "metadata": {
    "execution": {
     "iopub.execute_input": "2020-10-11T11:56:27.661016Z",
     "iopub.status.busy": "2020-10-11T11:56:27.660273Z",
     "iopub.status.idle": "2020-10-11T11:56:30.719600Z",
     "shell.execute_reply": "2020-10-11T11:56:30.718932Z"
    },
    "papermill": {
     "duration": 3.09926,
     "end_time": "2020-10-11T11:56:30.719752",
     "exception": false,
     "start_time": "2020-10-11T11:56:27.620492",
     "status": "completed"
    },
    "tags": []
   },
   "outputs": [],
   "source": [
    "from sklearn.metrics import confusion_matrix\n",
    "import itertools\n",
    "\n",
    "from keras.utils.np_utils import to_categorical # convert to one-hot-encoding\n",
    "from keras.models import Sequential\n",
    "from keras.layers import Dense, Dropout, Flatten, Conv2D, MaxPool2D\n",
    "from keras.optimizers import RMSprop,Adam\n",
    "from keras.preprocessing.image import ImageDataGenerator\n",
    "from keras.callbacks import ReduceLROnPlateau\n",
    "\n",
    "model = Sequential()\n",
    "model.add(Conv2D(filters = 8, kernel_size = (5,5),padding = 'Same', \n",
    "                 activation ='relu', input_shape = (28,28,1)))\n",
    "model.add(MaxPool2D(pool_size=(2,2)))\n",
    "model.add(Conv2D(filters = 16, kernel_size = (3,3),padding = 'Same', \n",
    "                 activation ='relu'))\n",
    "model.add(MaxPool2D(pool_size=(2,2), strides=(2,2)))\n",
    "model.add(Flatten())\n",
    "model.add(Dense(256, activation = \"relu\"))\n",
    "model.add(Dense(10, activation = \"softmax\"))"
   ]
  },
  {
   "cell_type": "markdown",
   "metadata": {
    "papermill": {
     "duration": 0.03047,
     "end_time": "2020-10-11T11:56:30.780770",
     "exception": false,
     "start_time": "2020-10-11T11:56:30.750300",
     "status": "completed"
    },
    "tags": []
   },
   "source": [
    "## Define Optimizer\n",
    "- Adam Optimizer"
   ]
  },
  {
   "cell_type": "code",
   "execution_count": 10,
   "metadata": {
    "execution": {
     "iopub.execute_input": "2020-10-11T11:56:30.849549Z",
     "iopub.status.busy": "2020-10-11T11:56:30.848629Z",
     "iopub.status.idle": "2020-10-11T11:56:30.852101Z",
     "shell.execute_reply": "2020-10-11T11:56:30.852683Z"
    },
    "papermill": {
     "duration": 0.043217,
     "end_time": "2020-10-11T11:56:30.852812",
     "exception": false,
     "start_time": "2020-10-11T11:56:30.809595",
     "status": "completed"
    },
    "tags": []
   },
   "outputs": [],
   "source": [
    "# Define the optimizer\n",
    "optimizer = Adam(lr=0.001, beta_1=0.9, beta_2=0.999)"
   ]
  },
  {
   "cell_type": "markdown",
   "metadata": {
    "papermill": {
     "duration": 0.031031,
     "end_time": "2020-10-11T11:56:30.913544",
     "exception": false,
     "start_time": "2020-10-11T11:56:30.882513",
     "status": "completed"
    },
    "tags": []
   },
   "source": [
    "## Compile Model\n",
    "\n",
    "- optimizer - Adam\n",
    "- loss - categorical cross entropy\n",
    "- metrics - accuracy\n",
    "\n",
    "![picture](https://gombru.github.io/assets/cross_entropy_loss/softmax_CE_pipeline.png)"
   ]
  },
  {
   "cell_type": "code",
   "execution_count": 11,
   "metadata": {
    "execution": {
     "iopub.execute_input": "2020-10-11T11:56:31.006515Z",
     "iopub.status.busy": "2020-10-11T11:56:31.005431Z",
     "iopub.status.idle": "2020-10-11T11:56:31.012991Z",
     "shell.execute_reply": "2020-10-11T11:56:31.012177Z"
    },
    "papermill": {
     "duration": 0.061477,
     "end_time": "2020-10-11T11:56:31.013112",
     "exception": false,
     "start_time": "2020-10-11T11:56:30.951635",
     "status": "completed"
    },
    "tags": []
   },
   "outputs": [],
   "source": [
    "# Compile the model\n",
    "model.compile(optimizer = optimizer , loss = \"categorical_crossentropy\", metrics=[\"accuracy\"])"
   ]
  },
  {
   "cell_type": "markdown",
   "metadata": {
    "papermill": {
     "duration": 0.030348,
     "end_time": "2020-10-11T11:56:31.074198",
     "exception": false,
     "start_time": "2020-10-11T11:56:31.043850",
     "status": "completed"
    },
    "tags": []
   },
   "source": [
    "## Epochs and Batch Size\n",
    "- Say you have a dataset of 10 examples (or samples). You have a **batch size** of 2, and you've specified you want the algorithm to run for 3 **epochs**. Therefore, in each epoch, you have 5 **batches** (10/2 = 5). Each batch gets passed through the algorithm, therefore you have 5 iterations **per epoch**."
   ]
  },
  {
   "cell_type": "code",
   "execution_count": 12,
   "metadata": {
    "execution": {
     "iopub.execute_input": "2020-10-11T11:56:31.139101Z",
     "iopub.status.busy": "2020-10-11T11:56:31.137318Z",
     "iopub.status.idle": "2020-10-11T11:56:31.139882Z",
     "shell.execute_reply": "2020-10-11T11:56:31.140378Z"
    },
    "papermill": {
     "duration": 0.036981,
     "end_time": "2020-10-11T11:56:31.140525",
     "exception": false,
     "start_time": "2020-10-11T11:56:31.103544",
     "status": "completed"
    },
    "tags": []
   },
   "outputs": [],
   "source": [
    "epochs = 10  # for better result increase the epochs\n",
    "batch_size = 200"
   ]
  },
  {
   "cell_type": "markdown",
   "metadata": {
    "papermill": {
     "duration": 0.030144,
     "end_time": "2020-10-11T11:56:31.201282",
     "exception": false,
     "start_time": "2020-10-11T11:56:31.171138",
     "status": "completed"
    },
    "tags": []
   },
   "source": [
    "## Fit the model\n",
    "\n"
   ]
  },
  {
   "cell_type": "code",
   "execution_count": 13,
   "metadata": {
    "execution": {
     "iopub.execute_input": "2020-10-11T11:56:31.266354Z",
     "iopub.status.busy": "2020-10-11T11:56:31.265738Z",
     "iopub.status.idle": "2020-10-11T11:56:51.804594Z",
     "shell.execute_reply": "2020-10-11T11:56:51.803995Z"
    },
    "papermill": {
     "duration": 20.573035,
     "end_time": "2020-10-11T11:56:51.804768",
     "exception": false,
     "start_time": "2020-10-11T11:56:31.231733",
     "status": "completed"
    },
    "tags": []
   },
   "outputs": [
    {
     "name": "stdout",
     "output_type": "stream",
     "text": [
      "Epoch 1/10\n",
      "240/240 [==============================] - 2s 7ms/step - loss: 0.3312 - accuracy: 0.9095 - val_loss: 0.1012 - val_accuracy: 0.9715\n",
      "Epoch 2/10\n",
      "240/240 [==============================] - 2s 6ms/step - loss: 0.0862 - accuracy: 0.9743 - val_loss: 0.0808 - val_accuracy: 0.9747\n",
      "Epoch 3/10\n",
      "240/240 [==============================] - 2s 6ms/step - loss: 0.0608 - accuracy: 0.9814 - val_loss: 0.0563 - val_accuracy: 0.9832\n",
      "Epoch 4/10\n",
      "240/240 [==============================] - 1s 6ms/step - loss: 0.0492 - accuracy: 0.9850 - val_loss: 0.0501 - val_accuracy: 0.9845\n",
      "Epoch 5/10\n",
      "240/240 [==============================] - 1s 6ms/step - loss: 0.0394 - accuracy: 0.9874 - val_loss: 0.0512 - val_accuracy: 0.9848\n",
      "Epoch 6/10\n",
      "240/240 [==============================] - 2s 8ms/step - loss: 0.0319 - accuracy: 0.9897 - val_loss: 0.0442 - val_accuracy: 0.9872\n",
      "Epoch 7/10\n",
      "240/240 [==============================] - 1s 6ms/step - loss: 0.0278 - accuracy: 0.9916 - val_loss: 0.0408 - val_accuracy: 0.9894\n",
      "Epoch 8/10\n",
      "240/240 [==============================] - 1s 6ms/step - loss: 0.0246 - accuracy: 0.9921 - val_loss: 0.0454 - val_accuracy: 0.9881\n",
      "Epoch 9/10\n",
      "240/240 [==============================] - 2s 7ms/step - loss: 0.0185 - accuracy: 0.9938 - val_loss: 0.0384 - val_accuracy: 0.9900\n",
      "Epoch 10/10\n",
      "240/240 [==============================] - 2s 7ms/step - loss: 0.0176 - accuracy: 0.9944 - val_loss: 0.0380 - val_accuracy: 0.9892\n",
      "CPU times: user 17.5 s, sys: 3.61 s, total: 21.1 s\n",
      "Wall time: 20.5 s\n"
     ]
    }
   ],
   "source": [
    "%%time\n",
    "history = model.fit(X_train,Y_train,validation_data=(X_val,Y_val),epochs=epochs\n",
    "                    ,shuffle=True,steps_per_epoch=X_train.shape[0] // batch_size)"
   ]
  },
  {
   "cell_type": "markdown",
   "metadata": {
    "papermill": {
     "duration": 0.089631,
     "end_time": "2020-10-11T11:56:51.985515",
     "exception": false,
     "start_time": "2020-10-11T11:56:51.895884",
     "status": "completed"
    },
    "tags": []
   },
   "source": [
    "## Model Evaluation\n",
    "- val Loss visualization\n",
    "- Confusion matrix"
   ]
  },
  {
   "cell_type": "code",
   "execution_count": 14,
   "metadata": {
    "execution": {
     "iopub.execute_input": "2020-10-11T11:56:52.182086Z",
     "iopub.status.busy": "2020-10-11T11:56:52.180807Z",
     "iopub.status.idle": "2020-10-11T11:56:52.353854Z",
     "shell.execute_reply": "2020-10-11T11:56:52.354486Z"
    },
    "papermill": {
     "duration": 0.276821,
     "end_time": "2020-10-11T11:56:52.354632",
     "exception": false,
     "start_time": "2020-10-11T11:56:52.077811",
     "status": "completed"
    },
    "tags": []
   },
   "outputs": [
    {
     "data": {
      "image/png": "[encoded data removed]",
      "text/plain": [
       "<Figure size 432x288 with 1 Axes>"
      ]
     },
     "metadata": {
      "needs_background": "light"
     },
     "output_type": "display_data"
    }
   ],
   "source": [
    "# Plot the loss and accuracy curves for training and validation \n",
    "plt.plot(history.history['val_loss'], color='b', label=\"validation loss\")\n",
    "plt.title(\"Val Loss\")\n",
    "plt.xlabel(\"Number of Epochs\")\n",
    "plt.ylabel(\"Loss\")\n",
    "plt.legend()\n",
    "plt.show()\n"
   ]
  },
  {
   "cell_type": "code",
   "execution_count": 15,
   "metadata": {
    "execution": {
     "iopub.execute_input": "2020-10-11T11:56:52.569435Z",
     "iopub.status.busy": "2020-10-11T11:56:52.568261Z",
     "iopub.status.idle": "2020-10-11T11:56:53.723936Z",
     "shell.execute_reply": "2020-10-11T11:56:53.723294Z"
    },
    "papermill": {
     "duration": 1.268162,
     "end_time": "2020-10-11T11:56:53.724076",
     "exception": false,
     "start_time": "2020-10-11T11:56:52.455914",
     "status": "completed"
    },
    "tags": []
   },
   "outputs": [
    {
     "data": {
      "image/png": "[encoded data removed]",
      "text/plain": [
       "<Figure size 576x576 with 2 Axes>"
      ]
     },
     "metadata": {
      "needs_background": "light"
     },
     "output_type": "display_data"
    }
   ],
   "source": [
    "# confusion matrix\n",
    "import seaborn as sns\n",
    "# Predict the values from the validation dataset\n",
    "Y_pred = model.predict(X_val)\n",
    "# Convert predictions classes to one hot vectors \n",
    "Y_pred_classes = np.argmax(Y_pred,axis = 1) \n",
    "# Convert validation observations to one hot vectors\n",
    "Y_true = np.argmax(Y_val,axis = 1) \n",
    "# compute the confusion matrix\n",
    "confusion_mtx = confusion_matrix(Y_true, Y_pred_classes) \n",
    "# plot the confusion matrix\n",
    "f,ax = plt.subplots(figsize=(8, 8))\n",
    "sns.heatmap(confusion_mtx, annot=True, linewidths=0.01,cmap=\"Greens\",linecolor=\"gray\", fmt= '.1f',ax=ax)\n",
    "plt.xlabel(\"Predicted Label\")\n",
    "plt.ylabel(\"True Label\")\n",
    "plt.title(\"Confusion Matrix\")\n",
    "plt.show()"
   ]
  },
  {
   "cell_type": "code",
   "execution_count": 16,
   "metadata": {
    "execution": {
     "iopub.execute_input": "2020-10-11T11:56:53.929791Z",
     "iopub.status.busy": "2020-10-11T11:56:53.928879Z",
     "iopub.status.idle": "2020-10-11T11:56:53.963327Z",
     "shell.execute_reply": "2020-10-11T11:56:53.963854Z"
    },
    "papermill": {
     "duration": 0.134745,
     "end_time": "2020-10-11T11:56:53.963987",
     "exception": false,
     "start_time": "2020-10-11T11:56:53.829242",
     "status": "completed"
    },
    "tags": []
   },
   "outputs": [
    {
     "name": "stdout",
     "output_type": "stream",
     "text": [
      "              precision    recall  f1-score   support\n",
      "\n",
      "     class 0       1.00      0.98      0.99      1175\n",
      "     class 1       1.00      1.00      1.00      1322\n",
      "     class 2       0.98      1.00      0.99      1174\n",
      "     class 3       0.99      0.99      0.99      1219\n",
      "     class 4       0.99      0.99      0.99      1176\n",
      "     class 5       0.99      0.99      0.99      1104\n",
      "     class 6       0.99      0.99      0.99      1177\n",
      "     class 7       0.99      0.99      0.99      1299\n",
      "     class 8       0.98      0.98      0.98      1160\n",
      "     class 9       0.98      0.99      0.98      1194\n",
      "\n",
      "    accuracy                           0.99     12000\n",
      "   macro avg       0.99      0.99      0.99     12000\n",
      "weighted avg       0.99      0.99      0.99     12000\n",
      "\n"
     ]
    }
   ],
   "source": [
    "### Printing classification report\n",
    "from sklearn.metrics import classification_report\n",
    "target_names = ['class 0', 'class 1', 'class 2', 'class 3', 'class 4', 'class 5', 'class 6', 'class 7', 'class 8', 'class 9']\n",
    "print(classification_report(Y_true, Y_pred_classes, target_names=target_names))"
   ]
  },
  {
   "cell_type": "code",
   "execution_count": 17,
   "metadata": {
    "execution": {
     "iopub.execute_input": "2020-10-11T11:56:54.158958Z",
     "iopub.status.busy": "2020-10-11T11:56:54.157382Z",
     "iopub.status.idle": "2020-10-11T11:56:54.164526Z",
     "shell.execute_reply": "2020-10-11T11:56:54.163772Z"
    },
    "papermill": {
     "duration": 0.106972,
     "end_time": "2020-10-11T11:56:54.164665",
     "exception": false,
     "start_time": "2020-10-11T11:56:54.057693",
     "status": "completed"
    },
    "tags": []
   },
   "outputs": [
    {
     "name": "stdout",
     "output_type": "stream",
     "text": [
      "Accuracy on val sample is: 0.989167\n"
     ]
    }
   ],
   "source": [
    "##Accuracy Score\n",
    "from sklearn.metrics import accuracy_score\n",
    "print(\"Accuracy on val sample is: %f\" %(accuracy_score(Y_true, Y_pred_classes)))"
   ]
  },
  {
   "cell_type": "markdown",
   "metadata": {
    "papermill": {
     "duration": 0.119597,
     "end_time": "2020-10-11T11:56:54.379725",
     "exception": false,
     "start_time": "2020-10-11T11:56:54.260128",
     "status": "completed"
    },
    "tags": []
   },
   "source": [
    "## Test the model\n",
    "We will now test the model on some random test data set. We will first construct the image of the number from the test data and then run our classifier to verify if it could identify it correctly.\n"
   ]
  },
  {
   "cell_type": "code",
   "execution_count": 18,
   "metadata": {
    "execution": {
     "iopub.execute_input": "2020-10-11T11:56:54.581462Z",
     "iopub.status.busy": "2020-10-11T11:56:54.580494Z",
     "iopub.status.idle": "2020-10-11T11:56:55.248811Z",
     "shell.execute_reply": "2020-10-11T11:56:55.249439Z"
    },
    "papermill": {
     "duration": 0.770044,
     "end_time": "2020-10-11T11:56:55.249599",
     "exception": false,
     "start_time": "2020-10-11T11:56:54.479555",
     "status": "completed"
    },
    "tags": []
   },
   "outputs": [
    {
     "name": "stdout",
     "output_type": "stream",
     "text": [
      "7\n",
      "[0. 0. 0. 0. 0. 0. 0. 1. 0. 0.]\n"
     ]
    },
    {
     "data": {
      "image/png": "[encoded data removed]",
      "text/plain": [
       "<Figure size 432x288 with 1 Axes>"
      ]
     },
     "metadata": {
      "needs_background": "light"
     },
     "output_type": "display_data"
    }
   ],
   "source": [
    "Y_pred_test = model.predict(X_orig_test)\n",
    "Y_pred_classes_test = np.argmax(Y_pred_test,axis = 1)\n",
    "\n",
    "image = X_orig_test[0].reshape( 28, 28)\n",
    "plt.imshow(image)\n",
    "print(Y_pred_classes_test[0])\n",
    "Y_true_test = np.argmax(y_orig_test,axis = 1)\n",
    "print(y_orig_test[0])\n"
   ]
  },
  {
   "cell_type": "code",
   "execution_count": 19,
   "metadata": {
    "execution": {
     "iopub.execute_input": "2020-10-11T11:56:55.476028Z",
     "iopub.status.busy": "2020-10-11T11:56:55.474821Z",
     "iopub.status.idle": "2020-10-11T11:56:55.628652Z",
     "shell.execute_reply": "2020-10-11T11:56:55.627756Z"
    },
    "papermill": {
     "duration": 0.272916,
     "end_time": "2020-10-11T11:56:55.628826",
     "exception": false,
     "start_time": "2020-10-11T11:56:55.355910",
     "status": "completed"
    },
    "tags": []
   },
   "outputs": [
    {
     "name": "stdout",
     "output_type": "stream",
     "text": [
      "5\n",
      "[0. 0. 0. 0. 0. 1. 0. 0. 0. 0.]\n"
     ]
    },
    {
     "data": {
      "image/png": "[encoded data removed]",
      "text/plain": [
       "<Figure size 432x288 with 1 Axes>"
      ]
     },
     "metadata": {
      "needs_background": "light"
     },
     "output_type": "display_data"
    }
   ],
   "source": [
    "i = 120\n",
    "image = X_orig_test[i].reshape( 28, 28)\n",
    "plt.imshow(image)\n",
    "print(Y_pred_classes_test[i])\n",
    "print(y_orig_test[i])"
   ]
  },
  {
   "cell_type": "code",
   "execution_count": 20,
   "metadata": {
    "execution": {
     "iopub.execute_input": "2020-10-11T11:56:55.850332Z",
     "iopub.status.busy": "2020-10-11T11:56:55.848707Z",
     "iopub.status.idle": "2020-10-11T11:56:55.856444Z",
     "shell.execute_reply": "2020-10-11T11:56:55.855559Z"
    },
    "papermill": {
     "duration": 0.119095,
     "end_time": "2020-10-11T11:56:55.856625",
     "exception": false,
     "start_time": "2020-10-11T11:56:55.737530",
     "status": "completed"
    },
    "tags": []
   },
   "outputs": [
    {
     "name": "stdout",
     "output_type": "stream",
     "text": [
      "Accuracy on test sample is: 0.990900\n"
     ]
    }
   ],
   "source": [
    "##Accuracy Score\n",
    "from sklearn.metrics import accuracy_score\n",
    "print(\"Accuracy on test sample is: %f\" %(accuracy_score(Y_true_test, Y_pred_classes_test)))"
   ]
  },
  {
   "cell_type": "code",
   "execution_count": 21,
   "metadata": {
    "execution": {
     "iopub.execute_input": "2020-10-11T11:56:56.082876Z",
     "iopub.status.busy": "2020-10-11T11:56:56.081933Z",
     "iopub.status.idle": "2020-10-11T11:56:56.111720Z",
     "shell.execute_reply": "2020-10-11T11:56:56.110828Z"
    },
    "papermill": {
     "duration": 0.148278,
     "end_time": "2020-10-11T11:56:56.111887",
     "exception": false,
     "start_time": "2020-10-11T11:56:55.963609",
     "status": "completed"
    },
    "tags": []
   },
   "outputs": [
    {
     "name": "stdout",
     "output_type": "stream",
     "text": [
      "              precision    recall  f1-score   support\n",
      "\n",
      "     class 0       0.99      0.99      0.99       980\n",
      "     class 1       1.00      1.00      1.00      1135\n",
      "     class 2       0.99      0.99      0.99      1032\n",
      "     class 3       0.99      0.99      0.99      1010\n",
      "     class 4       0.99      0.99      0.99       982\n",
      "     class 5       0.99      0.99      0.99       892\n",
      "     class 6       1.00      0.99      0.99       958\n",
      "     class 7       0.99      0.99      0.99      1028\n",
      "     class 8       0.98      0.99      0.99       974\n",
      "     class 9       0.98      0.99      0.99      1009\n",
      "\n",
      "    accuracy                           0.99     10000\n",
      "   macro avg       0.99      0.99      0.99     10000\n",
      "weighted avg       0.99      0.99      0.99     10000\n",
      "\n"
     ]
    }
   ],
   "source": [
    "### Printing classification report\n",
    "from sklearn.metrics import classification_report\n",
    "target_names = ['class 0', 'class 1', 'class 2', 'class 3', 'class 4', 'class 5', 'class 6', 'class 7', 'class 8', 'class 9']\n",
    "print(classification_report(Y_true_test, Y_pred_classes_test, target_names=target_names))"
   ]
  },
  {
   "cell_type": "markdown",
   "metadata": {
    "papermill": {
     "duration": 0.09614,
     "end_time": "2020-10-11T11:56:56.306535",
     "exception": false,
     "start_time": "2020-10-11T11:56:56.210395",
     "status": "completed"
    },
    "tags": []
   },
   "source": [
    "As we can see in the above examples we are getting the right prediction on test data.\n",
    "We are able to get almost **99% accuracy** on both **val** and **test** dataset."
   ]
  },
  {
   "cell_type": "code",
   "execution_count": null,
   "metadata": {
    "papermill": {
     "duration": 0.096889,
     "end_time": "2020-10-11T11:56:56.501723",
     "exception": false,
     "start_time": "2020-10-11T11:56:56.404834",
     "status": "completed"
    },
    "tags": []
   },
   "outputs": [],
   "source": []
  }
 ],
 "metadata": {
  "kernelspec": {
   "display_name": "Python 3",
   "language": "python",
   "name": "python3"
  },
  "language_info": {
   "codemirror_mode": {
    "name": "ipython",
    "version": 3
   },
   "file_extension": ".py",
   "mimetype": "text/x-python",
   "name": "python",
   "nbconvert_exporter": "python",
   "pygments_lexer": "ipython3",
   "version": "3.7.6"
  },
  "papermill": {
   "duration": 48.844171,
   "end_time": "2020-10-11T11:56:57.932287",
   "environment_variables": {},
   "exception": null,
   "input_path": "__notebook__.ipynb",
   "output_path": "__notebook__.ipynb",
   "parameters": {},
   "start_time": "2020-10-11T11:56:09.088116",
   "version": "2.1.0"
  }
 },
 "nbformat": 4,
 "nbformat_minor": 4
}
