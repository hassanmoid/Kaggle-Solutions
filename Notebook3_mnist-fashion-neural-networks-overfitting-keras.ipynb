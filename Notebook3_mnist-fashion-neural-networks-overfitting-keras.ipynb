{
 "cells": [
  {
   "cell_type": "markdown",
   "metadata": {
    "papermill": {
     "duration": 0.041681,
     "end_time": "2020-09-19T12:59:00.021079",
     "exception": false,
     "start_time": "2020-09-19T12:58:59.979398",
     "status": "completed"
    },
    "tags": []
   },
   "source": [
    "This guide uses the [Fashion MNIST](https://github.com/zalandoresearch/fashion-mnist) dataset which contains 70,000 grayscale images in 10 categories. The images show individual articles of clothing at low resolution (28 by 28 pixels), as seen here:\n",
    "\n",
    "<table>\n",
    "  <tr><td>\n",
    "    <img src=\"https://tensorflow.org/images/fashion-mnist-sprite.png\"\n",
    "         alt=\"Fashion MNIST sprite\"  width=\"600\">\n",
    "  </td></tr>\n",
    "  <tr><td align=\"center\">\n",
    "    <b>Figure 1.</b> <a href=\"https://github.com/zalandoresearch/fashion-mnist\">Fashion-MNIST samples</a> (by Zalando, MIT License).<br/>&nbsp;\n",
    "  </td></tr>\n",
    "</table>\n",
    "\n",
    "Fashion MNIST is intended as a drop-in replacement for the classic [MNIST](http://yann.lecun.com/exdb/mnist/) dataset—often used as the \"Hello, World\" of machine learning programs for computer vision. The MNIST dataset contains images of handwritten digits (0, 1, 2, etc.) in a format identical to that of the articles of clothing you'll use here.\n",
    "\n",
    "This guide uses Fashion MNIST for variety, and because it's a slightly more challenging problem than regular MNIST. Both datasets are relatively small and are used to verify that an algorithm works as expected. They're good starting points to test and debug code.\n",
    "\n",
    "Here, 60,000 images are used to train the network and 10,000 images to evaluate how accurately the network learned to classify images. You can access the Fashion MNIST directly from TensorFlow. Import and load the Fashion MNIST data directly from TensorFlow:"
   ]
  },
  {
   "cell_type": "code",
   "execution_count": 1,
   "metadata": {
    "_cell_guid": "79c7e3d0-c299-4dcb-8224-4455121ee9b0",
    "_uuid": "d629ff2d2480ee46fbb7e2d37f6b5fab8052498a",
    "execution": {
     "iopub.execute_input": "2020-09-19T12:59:00.104618Z",
     "iopub.status.busy": "2020-09-19T12:59:00.103825Z",
     "iopub.status.idle": "2020-09-19T12:59:07.472581Z",
     "shell.execute_reply": "2020-09-19T12:59:07.471674Z"
    },
    "papermill": {
     "duration": 7.41334,
     "end_time": "2020-09-19T12:59:07.472725",
     "exception": false,
     "start_time": "2020-09-19T12:59:00.059385",
     "status": "completed"
    },
    "tags": []
   },
   "outputs": [
    {
     "name": "stdout",
     "output_type": "stream",
     "text": [
      "Downloading data from https://storage.googleapis.com/tensorflow/tf-keras-datasets/train-labels-idx1-ubyte.gz\n",
      "32768/29515 [=================================] - 0s 0us/step\n",
      "Downloading data from https://storage.googleapis.com/tensorflow/tf-keras-datasets/train-images-idx3-ubyte.gz\n",
      "26427392/26421880 [==============================] - 0s 0us/step\n",
      "Downloading data from https://storage.googleapis.com/tensorflow/tf-keras-datasets/t10k-labels-idx1-ubyte.gz\n",
      "8192/5148 [===============================================] - 0s 0us/step\n",
      "Downloading data from https://storage.googleapis.com/tensorflow/tf-keras-datasets/t10k-images-idx3-ubyte.gz\n",
      "4423680/4422102 [==============================] - 0s 0us/step\n"
     ]
    }
   ],
   "source": [
    "import tensorflow\n",
    "from tensorflow.keras.datasets.fashion_mnist import load_data\n",
    "#fashion_mnist = tf.keras.datasets.fashion_mnist\n",
    "\n",
    "(train_images, train_labels), (test_images, test_labels) = load_data()"
   ]
  },
  {
   "cell_type": "markdown",
   "metadata": {
    "papermill": {
     "duration": 0.043134,
     "end_time": "2020-09-19T12:59:07.559242",
     "exception": false,
     "start_time": "2020-09-19T12:59:07.516108",
     "status": "completed"
    },
    "tags": []
   },
   "source": [
    "Loading the dataset returns four NumPy arrays:\n",
    "\n",
    "* The `train_images` and `train_labels` arrays are the *training set*—the data the model uses to learn.\n",
    "* The model is tested against the *test set*, the `test_images`, and `test_labels` arrays.\n",
    "\n",
    "The images are 28x28 NumPy arrays, with pixel values ranging from 0 to 255. The *labels* are an array of integers, ranging from 0 to 9. These correspond to the *class* of clothing the image represents:\n",
    "\n",
    "<table>\n",
    "  <tr>\n",
    "    <th>Label</th>\n",
    "    <th>Class</th>\n",
    "  </tr>\n",
    "  <tr>\n",
    "    <td>0</td>\n",
    "    <td>T-shirt/top</td>\n",
    "  </tr>\n",
    "  <tr>\n",
    "    <td>1</td>\n",
    "    <td>Trouser</td>\n",
    "  </tr>\n",
    "    <tr>\n",
    "    <td>2</td>\n",
    "    <td>Pullover</td>\n",
    "  </tr>\n",
    "    <tr>\n",
    "    <td>3</td>\n",
    "    <td>Dress</td>\n",
    "  </tr>\n",
    "    <tr>\n",
    "    <td>4</td>\n",
    "    <td>Coat</td>\n",
    "  </tr>\n",
    "    <tr>\n",
    "    <td>5</td>\n",
    "    <td>Sandal</td>\n",
    "  </tr>\n",
    "    <tr>\n",
    "    <td>6</td>\n",
    "    <td>Shirt</td>\n",
    "  </tr>\n",
    "    <tr>\n",
    "    <td>7</td>\n",
    "    <td>Sneaker</td>\n",
    "  </tr>\n",
    "    <tr>\n",
    "    <td>8</td>\n",
    "    <td>Bag</td>\n",
    "  </tr>\n",
    "    <tr>\n",
    "    <td>9</td>\n",
    "    <td>Ankle boot</td>\n",
    "  </tr>\n",
    "</table>\n",
    "\n",
    "Each image is mapped to a single label. Since the *class names* are not included with the dataset, store them here to use later when plotting the images:"
   ]
  },
  {
   "cell_type": "code",
   "execution_count": 2,
   "metadata": {
    "execution": {
     "iopub.execute_input": "2020-09-19T12:59:07.651761Z",
     "iopub.status.busy": "2020-09-19T12:59:07.650839Z",
     "iopub.status.idle": "2020-09-19T12:59:07.654533Z",
     "shell.execute_reply": "2020-09-19T12:59:07.653852Z"
    },
    "papermill": {
     "duration": 0.052535,
     "end_time": "2020-09-19T12:59:07.654673",
     "exception": false,
     "start_time": "2020-09-19T12:59:07.602138",
     "status": "completed"
    },
    "tags": []
   },
   "outputs": [],
   "source": [
    "class_names = ['T-shirt/top', 'Trouser', 'Pullover', 'Dress', 'Coat',\n",
    "               'Sandal', 'Shirt', 'Sneaker', 'Bag', 'Ankle boot']"
   ]
  },
  {
   "cell_type": "markdown",
   "metadata": {
    "papermill": {
     "duration": 0.042845,
     "end_time": "2020-09-19T12:59:07.740487",
     "exception": false,
     "start_time": "2020-09-19T12:59:07.697642",
     "status": "completed"
    },
    "tags": []
   },
   "source": [
    "## Explore the data\n",
    "\n",
    "Let's explore the format of the dataset before training the model. The following shows there are 60,000 images in the training set, with each image represented as 28 x 28 pixels:"
   ]
  },
  {
   "cell_type": "code",
   "execution_count": 3,
   "metadata": {
    "execution": {
     "iopub.execute_input": "2020-09-19T12:59:07.834060Z",
     "iopub.status.busy": "2020-09-19T12:59:07.831138Z",
     "iopub.status.idle": "2020-09-19T12:59:07.839270Z",
     "shell.execute_reply": "2020-09-19T12:59:07.840080Z"
    },
    "papermill": {
     "duration": 0.056621,
     "end_time": "2020-09-19T12:59:07.840317",
     "exception": false,
     "start_time": "2020-09-19T12:59:07.783696",
     "status": "completed"
    },
    "tags": []
   },
   "outputs": [
    {
     "name": "stdout",
     "output_type": "stream",
     "text": [
      "(60000, 28, 28)\n"
     ]
    },
    {
     "data": {
      "text/plain": [
       "60000"
      ]
     },
     "execution_count": 3,
     "metadata": {},
     "output_type": "execute_result"
    }
   ],
   "source": [
    "print(train_images.shape)\n",
    "len(train_labels)"
   ]
  },
  {
   "cell_type": "code",
   "execution_count": 4,
   "metadata": {
    "execution": {
     "iopub.execute_input": "2020-09-19T12:59:07.936212Z",
     "iopub.status.busy": "2020-09-19T12:59:07.935352Z",
     "iopub.status.idle": "2020-09-19T12:59:07.939595Z",
     "shell.execute_reply": "2020-09-19T12:59:07.940265Z"
    },
    "papermill": {
     "duration": 0.05591,
     "end_time": "2020-09-19T12:59:07.940428",
     "exception": false,
     "start_time": "2020-09-19T12:59:07.884518",
     "status": "completed"
    },
    "tags": []
   },
   "outputs": [
    {
     "data": {
      "text/plain": [
       "array([9, 0, 0, ..., 3, 0, 5], dtype=uint8)"
      ]
     },
     "execution_count": 4,
     "metadata": {},
     "output_type": "execute_result"
    }
   ],
   "source": [
    "train_labels"
   ]
  },
  {
   "cell_type": "code",
   "execution_count": 5,
   "metadata": {
    "execution": {
     "iopub.execute_input": "2020-09-19T12:59:08.038397Z",
     "iopub.status.busy": "2020-09-19T12:59:08.037512Z",
     "iopub.status.idle": "2020-09-19T12:59:08.042075Z",
     "shell.execute_reply": "2020-09-19T12:59:08.041477Z"
    },
    "papermill": {
     "duration": 0.055551,
     "end_time": "2020-09-19T12:59:08.042237",
     "exception": false,
     "start_time": "2020-09-19T12:59:07.986686",
     "status": "completed"
    },
    "tags": []
   },
   "outputs": [
    {
     "data": {
      "text/plain": [
       "(10000, 28, 28)"
      ]
     },
     "execution_count": 5,
     "metadata": {},
     "output_type": "execute_result"
    }
   ],
   "source": [
    "test_images.shape"
   ]
  },
  {
   "cell_type": "markdown",
   "metadata": {
    "papermill": {
     "duration": 0.045231,
     "end_time": "2020-09-19T12:59:08.133268",
     "exception": false,
     "start_time": "2020-09-19T12:59:08.088037",
     "status": "completed"
    },
    "tags": []
   },
   "source": [
    "## Preprocess the data\n",
    "\n",
    "The data must be preprocessed before training the network. If you inspect the first image in the training set, you will see that the pixel values fall in the range of 0 to 255:"
   ]
  },
  {
   "cell_type": "code",
   "execution_count": 6,
   "metadata": {
    "execution": {
     "iopub.execute_input": "2020-09-19T12:59:08.230663Z",
     "iopub.status.busy": "2020-09-19T12:59:08.229798Z",
     "iopub.status.idle": "2020-09-19T12:59:08.539772Z",
     "shell.execute_reply": "2020-09-19T12:59:08.539108Z"
    },
    "papermill": {
     "duration": 0.361516,
     "end_time": "2020-09-19T12:59:08.539918",
     "exception": false,
     "start_time": "2020-09-19T12:59:08.178402",
     "status": "completed"
    },
    "tags": []
   },
   "outputs": [
    {
     "data": {
      "image/png": "[encoded data removed]",
      "text/plain": [
       "<Figure size 432x288 with 2 Axes>"
      ]
     },
     "metadata": {
      "needs_background": "light"
     },
     "output_type": "display_data"
    }
   ],
   "source": [
    "import matplotlib.pyplot as plt\n",
    "plt.figure()\n",
    "plt.imshow(train_images[0])\n",
    "plt.colorbar()\n",
    "plt.grid(False)\n",
    "plt.show()"
   ]
  },
  {
   "cell_type": "markdown",
   "metadata": {
    "papermill": {
     "duration": 0.04569,
     "end_time": "2020-09-19T12:59:08.631601",
     "exception": false,
     "start_time": "2020-09-19T12:59:08.585911",
     "status": "completed"
    },
    "tags": []
   },
   "source": [
    "Scale these values to a range of 0 to 1 before feeding them to the neural network model. To do so, divide the values by 255. It's important that the *training set* and the *testing set* be preprocessed in the same way:"
   ]
  },
  {
   "cell_type": "code",
   "execution_count": 7,
   "metadata": {
    "execution": {
     "iopub.execute_input": "2020-09-19T12:59:08.729369Z",
     "iopub.status.busy": "2020-09-19T12:59:08.728541Z",
     "iopub.status.idle": "2020-09-19T12:59:08.975635Z",
     "shell.execute_reply": "2020-09-19T12:59:08.974952Z"
    },
    "papermill": {
     "duration": 0.298129,
     "end_time": "2020-09-19T12:59:08.975774",
     "exception": false,
     "start_time": "2020-09-19T12:59:08.677645",
     "status": "completed"
    },
    "tags": []
   },
   "outputs": [],
   "source": [
    "train_images = train_images / 255.0\n",
    "\n",
    "test_images = test_images / 255.0"
   ]
  },
  {
   "cell_type": "markdown",
   "metadata": {
    "papermill": {
     "duration": 0.045679,
     "end_time": "2020-09-19T12:59:09.067948",
     "exception": false,
     "start_time": "2020-09-19T12:59:09.022269",
     "status": "completed"
    },
    "tags": []
   },
   "source": [
    "To verify that the data is in the correct format and that you're ready to build and train the network, let's display the first 25 images from the *training set* and display the class name below each image."
   ]
  },
  {
   "cell_type": "code",
   "execution_count": 8,
   "metadata": {
    "execution": {
     "iopub.execute_input": "2020-09-19T12:59:09.170893Z",
     "iopub.status.busy": "2020-09-19T12:59:09.169993Z",
     "iopub.status.idle": "2020-09-19T12:59:10.372086Z",
     "shell.execute_reply": "2020-09-19T12:59:10.372701Z"
    },
    "papermill": {
     "duration": 1.258516,
     "end_time": "2020-09-19T12:59:10.372857",
     "exception": false,
     "start_time": "2020-09-19T12:59:09.114341",
     "status": "completed"
    },
    "tags": []
   },
   "outputs": [
    {
     "data": {
      "image/png": "[encoded data removed]",
      "text/plain": [
       "<Figure size 720x720 with 25 Axes>"
      ]
     },
     "metadata": {},
     "output_type": "display_data"
    }
   ],
   "source": [
    "plt.figure(figsize=(10,10))\n",
    "for i in range(25):\n",
    "    plt.subplot(5,5,i+1)\n",
    "    plt.xticks([])\n",
    "    plt.yticks([])\n",
    "    plt.grid(False)\n",
    "    plt.imshow(train_images[i], cmap=plt.cm.binary)\n",
    "    plt.xlabel(class_names[train_labels[i]])\n",
    "plt.show()"
   ]
  },
  {
   "cell_type": "markdown",
   "metadata": {
    "papermill": {
     "duration": 0.048005,
     "end_time": "2020-09-19T12:59:10.469317",
     "exception": false,
     "start_time": "2020-09-19T12:59:10.421312",
     "status": "completed"
    },
    "tags": []
   },
   "source": [
    "## Build the model\n",
    "\n",
    "Building the neural network requires configuring the layers of the model, then compiling the model."
   ]
  },
  {
   "cell_type": "markdown",
   "metadata": {
    "papermill": {
     "duration": 0.047393,
     "end_time": "2020-09-19T12:59:10.564652",
     "exception": false,
     "start_time": "2020-09-19T12:59:10.517259",
     "status": "completed"
    },
    "tags": []
   },
   "source": [
    "### Set up the layers\n",
    "\n",
    "The basic building block of a neural network is the *layer*. Layers extract representations from the data fed into them. Hopefully, these representations are meaningful for the problem at hand.\n",
    "\n",
    "Most of deep learning consists of chaining together simple layers. Most layers, such as `tf.keras.layers.Dense`, have parameters that are learned during training."
   ]
  },
  {
   "cell_type": "code",
   "execution_count": 9,
   "metadata": {
    "execution": {
     "iopub.execute_input": "2020-09-19T12:59:10.668127Z",
     "iopub.status.busy": "2020-09-19T12:59:10.667115Z",
     "iopub.status.idle": "2020-09-19T12:59:10.796881Z",
     "shell.execute_reply": "2020-09-19T12:59:10.797538Z"
    },
    "papermill": {
     "duration": 0.18518,
     "end_time": "2020-09-19T12:59:10.797706",
     "exception": false,
     "start_time": "2020-09-19T12:59:10.612526",
     "status": "completed"
    },
    "tags": []
   },
   "outputs": [],
   "source": [
    "from tensorflow import keras\n",
    "model = keras.Sequential([\n",
    "    keras.layers.Flatten(input_shape=(28, 28)),\n",
    "    keras.layers.Dense(128, activation='relu'),\n",
    "    keras.layers.Dense(10)\n",
    "])"
   ]
  },
  {
   "cell_type": "markdown",
   "metadata": {
    "papermill": {
     "duration": 0.047805,
     "end_time": "2020-09-19T12:59:10.893964",
     "exception": false,
     "start_time": "2020-09-19T12:59:10.846159",
     "status": "completed"
    },
    "tags": []
   },
   "source": [
    "**The** first layer in this network, `tf.keras.layers.Flatten`, transforms the format of the images from a two-dimensional array (of 28 by 28 pixels) to a one-dimensional array (of 28 * 28 = 784 pixels). Think of this layer as unstacking rows of pixels in the image and lining them up. This layer has no parameters to learn; it only reformats the data.\n",
    "\n",
    "After the pixels are flattened, the network consists of a sequence of two `tf.keras.layers.Dense` layers. These are densely connected, or fully connected, neural layers. The first `Dense` layer has 128 nodes (or neurons). The second (and last) layer returns a logits array with length of 10. Each node contains a score that indicates the current image belongs to one of the 10 classes.\n",
    "\n",
    "### Compile the model\n",
    "\n",
    "Before the model is ready for training, it needs a few more settings. These are added during the model's *compile* step:\n",
    "\n",
    "* *Loss function* —This measures how accurate the model is during training. You want to minimize this function to \"steer\" the model in the right direction.\n",
    "* *Optimizer* —This is how the model is updated based on the data it sees and its loss function.\n",
    "* *Metrics* —Used to monitor the training and testing steps. The following example uses *accuracy*, the fraction of the images that are correctly classified."
   ]
  },
  {
   "cell_type": "code",
   "execution_count": 10,
   "metadata": {
    "execution": {
     "iopub.execute_input": "2020-09-19T12:59:11.007888Z",
     "iopub.status.busy": "2020-09-19T12:59:11.007081Z",
     "iopub.status.idle": "2020-09-19T12:59:11.015081Z",
     "shell.execute_reply": "2020-09-19T12:59:11.014442Z"
    },
    "papermill": {
     "duration": 0.07323,
     "end_time": "2020-09-19T12:59:11.015242",
     "exception": false,
     "start_time": "2020-09-19T12:59:10.942012",
     "status": "completed"
    },
    "tags": []
   },
   "outputs": [],
   "source": [
    "import tensorflow as tf\n",
    "model.compile(optimizer='adam',\n",
    "              loss=tf.keras.losses.SparseCategoricalCrossentropy(from_logits=True),\n",
    "              metrics=['accuracy'])"
   ]
  },
  {
   "cell_type": "markdown",
   "metadata": {
    "papermill": {
     "duration": 0.048191,
     "end_time": "2020-09-19T12:59:11.112128",
     "exception": false,
     "start_time": "2020-09-19T12:59:11.063937",
     "status": "completed"
    },
    "tags": []
   },
   "source": [
    "## Train the model\n",
    "\n",
    "Training the neural network model requires the following steps:\n",
    "\n",
    "1. Feed the training data to the model. In this example, the training data is in the `train_images` and `train_labels` arrays.\n",
    "2. The model learns to associate images and labels.\n",
    "3. You ask the model to make predictions about a test set—in this example, the `test_images` array.\n",
    "4. Verify that the predictions match the labels from the `test_labels` array.\n"
   ]
  },
  {
   "cell_type": "markdown",
   "metadata": {
    "papermill": {
     "duration": 0.047859,
     "end_time": "2020-09-19T12:59:11.209111",
     "exception": false,
     "start_time": "2020-09-19T12:59:11.161252",
     "status": "completed"
    },
    "tags": []
   },
   "source": [
    "### Feed the model\n",
    "\n",
    "To start training,  call the `model.fit` method—so called because it \"fits\" the model to the training data:"
   ]
  },
  {
   "cell_type": "code",
   "execution_count": 11,
   "metadata": {
    "execution": {
     "iopub.execute_input": "2020-09-19T12:59:11.313501Z",
     "iopub.status.busy": "2020-09-19T12:59:11.312380Z",
     "iopub.status.idle": "2020-09-19T12:59:44.807970Z",
     "shell.execute_reply": "2020-09-19T12:59:44.807309Z"
    },
    "papermill": {
     "duration": 33.550087,
     "end_time": "2020-09-19T12:59:44.808095",
     "exception": false,
     "start_time": "2020-09-19T12:59:11.258008",
     "status": "completed"
    },
    "tags": []
   },
   "outputs": [
    {
     "name": "stdout",
     "output_type": "stream",
     "text": [
      "Epoch 1/10\n",
      "1875/1875 [==============================] - 3s 2ms/step - loss: 0.5009 - accuracy: 0.8243\n",
      "Epoch 2/10\n",
      "1875/1875 [==============================] - 3s 2ms/step - loss: 0.3754 - accuracy: 0.8661\n",
      "Epoch 3/10\n",
      "1875/1875 [==============================] - 3s 2ms/step - loss: 0.3369 - accuracy: 0.8772\n",
      "Epoch 4/10\n",
      "1875/1875 [==============================] - 3s 2ms/step - loss: 0.3128 - accuracy: 0.8856\n",
      "Epoch 5/10\n",
      "1875/1875 [==============================] - 3s 2ms/step - loss: 0.2958 - accuracy: 0.8909\n",
      "Epoch 6/10\n",
      "1875/1875 [==============================] - 3s 2ms/step - loss: 0.2813 - accuracy: 0.8961\n",
      "Epoch 7/10\n",
      "1875/1875 [==============================] - 3s 2ms/step - loss: 0.2676 - accuracy: 0.9020\n",
      "Epoch 8/10\n",
      "1875/1875 [==============================] - 3s 2ms/step - loss: 0.2564 - accuracy: 0.9053\n",
      "Epoch 9/10\n",
      "1875/1875 [==============================] - 3s 2ms/step - loss: 0.2465 - accuracy: 0.9079\n",
      "Epoch 10/10\n",
      "1875/1875 [==============================] - 3s 2ms/step - loss: 0.2372 - accuracy: 0.9118\n"
     ]
    },
    {
     "data": {
      "text/plain": [
       "<tensorflow.python.keras.callbacks.History at 0x7f73f199b750>"
      ]
     },
     "execution_count": 11,
     "metadata": {},
     "output_type": "execute_result"
    }
   ],
   "source": [
    "model.fit(train_images, train_labels, epochs=10)"
   ]
  },
  {
   "cell_type": "markdown",
   "metadata": {
    "papermill": {
     "duration": 0.312454,
     "end_time": "2020-09-19T12:59:45.437116",
     "exception": false,
     "start_time": "2020-09-19T12:59:45.124662",
     "status": "completed"
    },
    "tags": []
   },
   "source": [
    "### Evaluate accuracy\n",
    "\n",
    "Next, compare how the model performs on the test dataset:"
   ]
  },
  {
   "cell_type": "code",
   "execution_count": 12,
   "metadata": {
    "execution": {
     "iopub.execute_input": "2020-09-19T12:59:46.072081Z",
     "iopub.status.busy": "2020-09-19T12:59:46.070708Z",
     "iopub.status.idle": "2020-09-19T12:59:46.649939Z",
     "shell.execute_reply": "2020-09-19T12:59:46.649314Z"
    },
    "papermill": {
     "duration": 0.901552,
     "end_time": "2020-09-19T12:59:46.650106",
     "exception": false,
     "start_time": "2020-09-19T12:59:45.748554",
     "status": "completed"
    },
    "tags": []
   },
   "outputs": [
    {
     "name": "stdout",
     "output_type": "stream",
     "text": [
      "313/313 - 0s - loss: 0.3358 - accuracy: 0.8835\n",
      "\n",
      "Test accuracy: 0.8834999799728394\n"
     ]
    }
   ],
   "source": [
    "test_loss, test_acc = model.evaluate(test_images,  test_labels, verbose=2)\n",
    "\n",
    "print('\\nTest accuracy:', test_acc)"
   ]
  },
  {
   "cell_type": "markdown",
   "metadata": {
    "papermill": {
     "duration": 0.317054,
     "end_time": "2020-09-19T12:59:47.290500",
     "exception": false,
     "start_time": "2020-09-19T12:59:46.973446",
     "status": "completed"
    },
    "tags": []
   },
   "source": [
    "It turns out that the accuracy on the test dataset is a little less than the accuracy on the training dataset. This gap between training accuracy and test accuracy represents *overfitting*. Overfitting happens when a machine learning model performs worse on new, previously unseen inputs than it does on the training data. An overfitted model \"memorizes\" the noise and details in the training dataset to a point where it negatively impacts the performance of the model on the new data. For more information, see the following:\n",
    "*   [Demonstrate overfitting](https://www.tensorflow.org/tutorials/keras/overfit_and_underfit#demonstrate_overfitting)\n",
    "*   [Strategies to prevent overfitting](https://www.tensorflow.org/tutorials/keras/overfit_and_underfit#strategies_to_prevent_overfitting)"
   ]
  },
  {
   "cell_type": "markdown",
   "metadata": {
    "papermill": {
     "duration": 0.315285,
     "end_time": "2020-09-19T12:59:47.916464",
     "exception": false,
     "start_time": "2020-09-19T12:59:47.601179",
     "status": "completed"
    },
    "tags": []
   },
   "source": [
    "##Add weight regularization\n",
    "You may be familiar with Occam's Razor principle: given two explanations for something, the explanation most likely to be correct is the \"simplest\" one, the one that makes the least amount of assumptions. This also applies to the models learned by neural networks: given some training data and a network architecture, there are multiple sets of weights values (multiple models) that could explain the data, and simpler models are less likely to overfit than complex ones.\n",
    "\n",
    "A \"simple model\" in this context is a model where the distribution of parameter values has less entropy (or a model with fewer parameters altogether, as we saw in the section above). Thus a common way to mitigate overfitting is to put constraints on the complexity of a network by forcing its weights only to take small values, which makes the distribution of weight values more \"regular\". This is called \"weight regularization\", and it is done by adding to the loss function of the network a cost associated with having large weights. This cost comes in two flavors:\n",
    "\n",
    "* ----L1 regularization, where the cost added is proportional to the absolute value of the weights coefficients (i.e. to what is called the \"L1 norm\" of the weights).\n",
    "* ----L2 regularization, where the cost added is proportional to the square of the value of the weights coefficients (i.e. to what is called the squared \"L2 norm\" of the weights). L2 regularization is also called weight decay in the context of neural networks. Don't let the different name confuse you: weight decay is mathematically the exact same as L2 regularization.\n",
    "\n",
    "L1 regularization pushes weights towards exactly zero encouraging a sparse model. L2 regularization will penalize the weights parameters without making them sparse since the penalty goes to zero for small weights. one reason why L2 is more common.\n",
    "\n",
    "In tf.keras, weight regularization is added by passing weight regularizer instances to layers as keyword arguments. Let's add L2 weight regularization now.\n",
    "\n"
   ]
  },
  {
   "cell_type": "markdown",
   "metadata": {
    "papermill": {
     "duration": 0.313753,
     "end_time": "2020-09-19T12:59:48.548866",
     "exception": false,
     "start_time": "2020-09-19T12:59:48.235113",
     "status": "completed"
    },
    "tags": []
   },
   "source": [
    "### Applying L2 regularization"
   ]
  },
  {
   "cell_type": "code",
   "execution_count": 13,
   "metadata": {
    "execution": {
     "iopub.execute_input": "2020-09-19T12:59:49.193394Z",
     "iopub.status.busy": "2020-09-19T12:59:49.192598Z",
     "iopub.status.idle": "2020-09-19T13:00:25.184124Z",
     "shell.execute_reply": "2020-09-19T13:00:25.183390Z"
    },
    "papermill": {
     "duration": 36.322726,
     "end_time": "2020-09-19T13:00:25.184290",
     "exception": false,
     "start_time": "2020-09-19T12:59:48.861564",
     "status": "completed"
    },
    "tags": []
   },
   "outputs": [
    {
     "name": "stdout",
     "output_type": "stream",
     "text": [
      "Epoch 1/10\n",
      "1875/1875 [==============================] - 4s 2ms/step - loss: 0.6487 - accuracy: 0.8184\n",
      "Epoch 2/10\n",
      "1875/1875 [==============================] - 4s 2ms/step - loss: 0.5079 - accuracy: 0.8503\n",
      "Epoch 3/10\n",
      "1875/1875 [==============================] - 3s 2ms/step - loss: 0.4815 - accuracy: 0.8551\n",
      "Epoch 4/10\n",
      "1875/1875 [==============================] - 3s 2ms/step - loss: 0.4633 - accuracy: 0.8594\n",
      "Epoch 5/10\n",
      "1875/1875 [==============================] - 3s 2ms/step - loss: 0.4521 - accuracy: 0.8654\n",
      "Epoch 6/10\n",
      "1875/1875 [==============================] - 3s 2ms/step - loss: 0.4410 - accuracy: 0.8653\n",
      "Epoch 7/10\n",
      "1875/1875 [==============================] - 3s 2ms/step - loss: 0.4335 - accuracy: 0.8687\n",
      "Epoch 8/10\n",
      "1875/1875 [==============================] - 3s 2ms/step - loss: 0.4257 - accuracy: 0.8701\n",
      "Epoch 9/10\n",
      "1875/1875 [==============================] - 4s 2ms/step - loss: 0.4227 - accuracy: 0.8714\n",
      "Epoch 10/10\n",
      "1875/1875 [==============================] - 3s 2ms/step - loss: 0.4223 - accuracy: 0.8709\n"
     ]
    },
    {
     "data": {
      "text/plain": [
       "<tensorflow.python.keras.callbacks.History at 0x7f73d446e910>"
      ]
     },
     "execution_count": 13,
     "metadata": {},
     "output_type": "execute_result"
    }
   ],
   "source": [
    "from tensorflow.keras import regularizers\n",
    "model_l2 = keras.Sequential([\n",
    "    keras.layers.Flatten(input_shape=(28, 28)),\n",
    "    keras.layers.Dense(128, activation='relu', kernel_regularizer=regularizers.l2(0.001)),\n",
    "    keras.layers.Dense(10)\n",
    "])\n",
    "model_l2.compile(optimizer='adam',\n",
    "              loss=tf.keras.losses.SparseCategoricalCrossentropy(from_logits=True),\n",
    "              metrics=['accuracy'])\n",
    "model_l2.fit(train_images, train_labels, epochs=10)"
   ]
  },
  {
   "cell_type": "code",
   "execution_count": 14,
   "metadata": {
    "execution": {
     "iopub.execute_input": "2020-09-19T13:00:26.397071Z",
     "iopub.status.busy": "2020-09-19T13:00:26.395668Z",
     "iopub.status.idle": "2020-09-19T13:00:26.961011Z",
     "shell.execute_reply": "2020-09-19T13:00:26.961717Z"
    },
    "papermill": {
     "duration": 1.178472,
     "end_time": "2020-09-19T13:00:26.961886",
     "exception": false,
     "start_time": "2020-09-19T13:00:25.783414",
     "status": "completed"
    },
    "tags": []
   },
   "outputs": [
    {
     "name": "stdout",
     "output_type": "stream",
     "text": [
      "313/313 - 0s - loss: 0.5021 - accuracy: 0.8430\n",
      "\n",
      "Test accuracy: 0.8429999947547913\n"
     ]
    }
   ],
   "source": [
    "test_loss_l2, test_acc_l2 = model_l2.evaluate(test_images,  test_labels, verbose=2)\n",
    "\n",
    "print('\\nTest accuracy:', test_acc_l2)"
   ]
  },
  {
   "cell_type": "markdown",
   "metadata": {
    "papermill": {
     "duration": 0.606209,
     "end_time": "2020-09-19T13:00:28.172321",
     "exception": false,
     "start_time": "2020-09-19T13:00:27.566112",
     "status": "completed"
    },
    "tags": []
   },
   "source": [
    "As can be seen above overfitting is removed to some extent from the model but at the cost of performance."
   ]
  },
  {
   "cell_type": "markdown",
   "metadata": {
    "papermill": {
     "duration": 0.598559,
     "end_time": "2020-09-19T13:00:29.369586",
     "exception": false,
     "start_time": "2020-09-19T13:00:28.771027",
     "status": "completed"
    },
    "tags": []
   },
   "source": [
    "### Add dropouts\n",
    "Dropout is one of the most effective and most commonly used regularization techniques for neural networks, developed by Hinton and his students at the University of Toronto.\n",
    "\n",
    "The intuitive explanation for dropout is that because individual nodes in the network cannot rely on the output of the others, each node must output features that are useful on their own.\n",
    "\n",
    "Dropout, applied to a layer, consists of randomly \"dropping out\" (i.e. set to zero) a number of output features of the layer during training. Let's say a given layer would normally have returned a vector [0.2, 0.5, 1.3, 0.8, 1.1] for a given input sample during training; after applying dropout, this vector will have a few zero entries distributed at random, e.g. [0, 0.5, 1.3, 0, 1.1].\n",
    "\n",
    "The \"dropout rate\" is the fraction of the features that are being zeroed-out; it is usually set between 0.2 and 0.5. At test time, no units are dropped out, and instead the layer's output values are scaled down by a factor equal to the dropout rate, so as to balance for the fact that more units are active than at training time.\n",
    "\n",
    "In tf.keras you can introduce dropout in a network via the Dropout layer, which gets applied to the output of layer right before.\n",
    "\n",
    "Let's add two Dropout layers in our network to see how well they do at reducing overfitting:\n",
    "\n"
   ]
  },
  {
   "cell_type": "code",
   "execution_count": 15,
   "metadata": {
    "execution": {
     "iopub.execute_input": "2020-09-19T13:00:30.617061Z",
     "iopub.status.busy": "2020-09-19T13:00:30.615767Z",
     "iopub.status.idle": "2020-09-19T13:01:06.455558Z",
     "shell.execute_reply": "2020-09-19T13:01:06.456139Z"
    },
    "papermill": {
     "duration": 36.481864,
     "end_time": "2020-09-19T13:01:06.456370",
     "exception": false,
     "start_time": "2020-09-19T13:00:29.974506",
     "status": "completed"
    },
    "tags": []
   },
   "outputs": [
    {
     "name": "stdout",
     "output_type": "stream",
     "text": [
      "Epoch 1/10\n",
      "1875/1875 [==============================] - 4s 2ms/step - loss: 0.7023 - accuracy: 0.7989\n",
      "Epoch 2/10\n",
      "1875/1875 [==============================] - 4s 2ms/step - loss: 0.5621 - accuracy: 0.8329\n",
      "Epoch 3/10\n",
      "1875/1875 [==============================] - 4s 2ms/step - loss: 0.5387 - accuracy: 0.8387\n",
      "Epoch 4/10\n",
      "1875/1875 [==============================] - 3s 2ms/step - loss: 0.5310 - accuracy: 0.8392\n",
      "Epoch 5/10\n",
      "1875/1875 [==============================] - 3s 2ms/step - loss: 0.5242 - accuracy: 0.8418\n",
      "Epoch 6/10\n",
      "1875/1875 [==============================] - 3s 2ms/step - loss: 0.5188 - accuracy: 0.8425\n",
      "Epoch 7/10\n",
      "1875/1875 [==============================] - 4s 2ms/step - loss: 0.5155 - accuracy: 0.8428\n",
      "Epoch 8/10\n",
      "1875/1875 [==============================] - 3s 2ms/step - loss: 0.5111 - accuracy: 0.8453\n",
      "Epoch 9/10\n",
      "1875/1875 [==============================] - 4s 2ms/step - loss: 0.5111 - accuracy: 0.8453\n",
      "Epoch 10/10\n",
      "1875/1875 [==============================] - 3s 2ms/step - loss: 0.5109 - accuracy: 0.8453\n"
     ]
    },
    {
     "data": {
      "text/plain": [
       "<tensorflow.python.keras.callbacks.History at 0x7f73d42f8d50>"
      ]
     },
     "execution_count": 15,
     "metadata": {},
     "output_type": "execute_result"
    }
   ],
   "source": [
    "from tensorflow.keras import layers\n",
    "model_dropout = keras.Sequential([\n",
    "    keras.layers.Flatten(input_shape=(28, 28)),\n",
    "    keras.layers.Dense(128, activation='relu', kernel_regularizer=regularizers.l2(0.001)),\n",
    "    layers.Dropout(0.3),\n",
    "    keras.layers.Dense(10)\n",
    "])\n",
    "model_dropout.compile(optimizer='adam',\n",
    "              loss=tf.keras.losses.SparseCategoricalCrossentropy(from_logits=True),\n",
    "              metrics=['accuracy'])\n",
    "model_dropout.fit(train_images, train_labels, epochs=10)"
   ]
  },
  {
   "cell_type": "code",
   "execution_count": 16,
   "metadata": {
    "execution": {
     "iopub.execute_input": "2020-09-19T13:01:08.231143Z",
     "iopub.status.busy": "2020-09-19T13:01:08.230320Z",
     "iopub.status.idle": "2020-09-19T13:01:08.724710Z",
     "shell.execute_reply": "2020-09-19T13:01:08.723046Z"
    },
    "papermill": {
     "duration": 1.383803,
     "end_time": "2020-09-19T13:01:08.724859",
     "exception": false,
     "start_time": "2020-09-19T13:01:07.341056",
     "status": "completed"
    },
    "tags": []
   },
   "outputs": [
    {
     "name": "stdout",
     "output_type": "stream",
     "text": [
      "313/313 - 0s - loss: 0.4859 - accuracy: 0.8584\n",
      "\n",
      "Test accuracy: 0.8583999872207642\n"
     ]
    }
   ],
   "source": [
    "test_loss_dropout, test_acc_dropout = model_dropout.evaluate(test_images,  test_labels, verbose=2)\n",
    "\n",
    "print('\\nTest accuracy:', test_acc_dropout)"
   ]
  },
  {
   "cell_type": "markdown",
   "metadata": {
    "papermill": {
     "duration": 0.887667,
     "end_time": "2020-09-19T13:01:10.498453",
     "exception": false,
     "start_time": "2020-09-19T13:01:09.610786",
     "status": "completed"
    },
    "tags": []
   },
   "source": [
    "We applied dropouts on the single layer of 128 nodes by making the output of 30% nodes as zeroes, we were able to reduce overfitting to more extent than l2 regularization"
   ]
  },
  {
   "cell_type": "markdown",
   "metadata": {
    "papermill": {
     "duration": 0.885436,
     "end_time": "2020-09-19T13:01:12.271875",
     "exception": false,
     "start_time": "2020-09-19T13:01:11.386439",
     "status": "completed"
    },
    "tags": []
   },
   "source": [
    "### Combined L2 + dropout"
   ]
  },
  {
   "cell_type": "code",
   "execution_count": 17,
   "metadata": {
    "execution": {
     "iopub.execute_input": "2020-09-19T13:01:14.057627Z",
     "iopub.status.busy": "2020-09-19T13:01:14.056503Z",
     "iopub.status.idle": "2020-09-19T13:01:49.994449Z",
     "shell.execute_reply": "2020-09-19T13:01:49.993724Z"
    },
    "papermill": {
     "duration": 36.836432,
     "end_time": "2020-09-19T13:01:49.994587",
     "exception": false,
     "start_time": "2020-09-19T13:01:13.158155",
     "status": "completed"
    },
    "tags": []
   },
   "outputs": [
    {
     "name": "stdout",
     "output_type": "stream",
     "text": [
      "Epoch 1/10\n",
      "1875/1875 [==============================] - 4s 2ms/step - loss: 0.7807 - accuracy: 0.7720\n",
      "Epoch 2/10\n",
      "1875/1875 [==============================] - 3s 2ms/step - loss: 0.6205 - accuracy: 0.8148\n",
      "Epoch 3/10\n",
      "1875/1875 [==============================] - 3s 2ms/step - loss: 0.6006 - accuracy: 0.8167\n",
      "Epoch 4/10\n",
      "1875/1875 [==============================] - 4s 2ms/step - loss: 0.5883 - accuracy: 0.8190\n",
      "Epoch 5/10\n",
      "1875/1875 [==============================] - 4s 2ms/step - loss: 0.5895 - accuracy: 0.8203\n",
      "Epoch 6/10\n",
      "1875/1875 [==============================] - 3s 2ms/step - loss: 0.5826 - accuracy: 0.8194\n",
      "Epoch 7/10\n",
      "1875/1875 [==============================] - 3s 2ms/step - loss: 0.5854 - accuracy: 0.8196\n",
      "Epoch 8/10\n",
      "1875/1875 [==============================] - 3s 2ms/step - loss: 0.5793 - accuracy: 0.8230\n",
      "Epoch 9/10\n",
      "1875/1875 [==============================] - 4s 2ms/step - loss: 0.5781 - accuracy: 0.8229\n",
      "Epoch 10/10\n",
      "1875/1875 [==============================] - 3s 2ms/step - loss: 0.5801 - accuracy: 0.8234\n"
     ]
    },
    {
     "data": {
      "text/plain": [
       "<tensorflow.python.keras.callbacks.History at 0x7f73d415d410>"
      ]
     },
     "execution_count": 17,
     "metadata": {},
     "output_type": "execute_result"
    }
   ],
   "source": [
    "from tensorflow.keras import regularizers\n",
    "model_l2_dropout = keras.Sequential([\n",
    "    keras.layers.Flatten(input_shape=(28, 28)),\n",
    "    keras.layers.Dense(128, activation='relu', kernel_regularizer=regularizers.l2(0.001)),\n",
    "    layers.Dropout(0.5),\n",
    "    keras.layers.Dense(10)\n",
    "])\n",
    "model_l2_dropout.compile(optimizer='adam',\n",
    "              loss=tf.keras.losses.SparseCategoricalCrossentropy(from_logits=True),\n",
    "              metrics=['accuracy'])\n",
    "model_l2_dropout.fit(train_images, train_labels, epochs=10)"
   ]
  },
  {
   "cell_type": "code",
   "execution_count": 18,
   "metadata": {
    "execution": {
     "iopub.execute_input": "2020-09-19T13:01:52.341025Z",
     "iopub.status.busy": "2020-09-19T13:01:52.339686Z",
     "iopub.status.idle": "2020-09-19T13:01:52.821295Z",
     "shell.execute_reply": "2020-09-19T13:01:52.820390Z"
    },
    "papermill": {
     "duration": 1.649991,
     "end_time": "2020-09-19T13:01:52.821458",
     "exception": false,
     "start_time": "2020-09-19T13:01:51.171467",
     "status": "completed"
    },
    "tags": []
   },
   "outputs": [
    {
     "name": "stdout",
     "output_type": "stream",
     "text": [
      "313/313 - 0s - loss: 0.5172 - accuracy: 0.8437\n",
      "\n",
      "Test accuracy: 0.8436999917030334\n"
     ]
    }
   ],
   "source": [
    "test_loss_l2_dropout, test_acc_l2_dropout = model_l2_dropout.evaluate(test_images,  test_labels, verbose=2)\n",
    "\n",
    "print('\\nTest accuracy:', test_acc_l2_dropout)"
   ]
  },
  {
   "cell_type": "markdown",
   "metadata": {
    "papermill": {
     "duration": 1.176547,
     "end_time": "2020-09-19T13:01:55.168748",
     "exception": false,
     "start_time": "2020-09-19T13:01:53.992201",
     "status": "completed"
    },
    "tags": []
   },
   "source": [
    "### Make predictions\n",
    "\n",
    "With the model trained, you can use it to make predictions about some images.\n",
    "The model's linear outputs, [logits](https://developers.google.com/machine-learning/glossary#logits). Attach a softmax layer to convert the logits to probabilities, which are easier to interpret. "
   ]
  },
  {
   "cell_type": "code",
   "execution_count": 19,
   "metadata": {
    "execution": {
     "iopub.execute_input": "2020-09-19T13:01:57.514064Z",
     "iopub.status.busy": "2020-09-19T13:01:57.512934Z",
     "iopub.status.idle": "2020-09-19T13:01:57.963174Z",
     "shell.execute_reply": "2020-09-19T13:01:57.962509Z"
    },
    "papermill": {
     "duration": 1.624435,
     "end_time": "2020-09-19T13:01:57.963327",
     "exception": false,
     "start_time": "2020-09-19T13:01:56.338892",
     "status": "completed"
    },
    "tags": []
   },
   "outputs": [],
   "source": [
    "probability_model = tf.keras.Sequential([model, \n",
    "                                         tf.keras.layers.Softmax()])\n",
    "predictions = probability_model.predict(test_images)"
   ]
  },
  {
   "cell_type": "markdown",
   "metadata": {
    "papermill": {
     "duration": 1.228345,
     "end_time": "2020-09-19T13:02:00.425806",
     "exception": false,
     "start_time": "2020-09-19T13:01:59.197461",
     "status": "completed"
    },
    "tags": []
   },
   "source": [
    "Here, the model has predicted the label for each image in the testing set. Let's take a look at the first prediction:"
   ]
  },
  {
   "cell_type": "code",
   "execution_count": 20,
   "metadata": {
    "execution": {
     "iopub.execute_input": "2020-09-19T13:02:02.797559Z",
     "iopub.status.busy": "2020-09-19T13:02:02.796490Z",
     "iopub.status.idle": "2020-09-19T13:02:02.801786Z",
     "shell.execute_reply": "2020-09-19T13:02:02.801062Z"
    },
    "papermill": {
     "duration": 1.211388,
     "end_time": "2020-09-19T13:02:02.801909",
     "exception": false,
     "start_time": "2020-09-19T13:02:01.590521",
     "status": "completed"
    },
    "tags": []
   },
   "outputs": [
    {
     "data": {
      "text/plain": [
       "array([1.3519247e-06, 8.9878605e-11, 9.0788417e-09, 2.1594050e-10,\n",
       "       8.8909133e-07, 2.0029260e-02, 5.5423509e-08, 1.1709724e-02,\n",
       "       1.6383768e-06, 9.6825713e-01], dtype=float32)"
      ]
     },
     "execution_count": 20,
     "metadata": {},
     "output_type": "execute_result"
    }
   ],
   "source": [
    "predictions[0]"
   ]
  },
  {
   "cell_type": "code",
   "execution_count": 21,
   "metadata": {
    "execution": {
     "iopub.execute_input": "2020-09-19T13:02:05.202105Z",
     "iopub.status.busy": "2020-09-19T13:02:05.201076Z",
     "iopub.status.idle": "2020-09-19T13:02:05.206850Z",
     "shell.execute_reply": "2020-09-19T13:02:05.205992Z"
    },
    "papermill": {
     "duration": 1.207297,
     "end_time": "2020-09-19T13:02:05.207028",
     "exception": false,
     "start_time": "2020-09-19T13:02:03.999731",
     "status": "completed"
    },
    "tags": []
   },
   "outputs": [
    {
     "data": {
      "text/plain": [
       "9"
      ]
     },
     "execution_count": 21,
     "metadata": {},
     "output_type": "execute_result"
    }
   ],
   "source": [
    "test_labels[0]"
   ]
  },
  {
   "cell_type": "markdown",
   "metadata": {
    "papermill": {
     "duration": 1.20249,
     "end_time": "2020-09-19T13:02:07.607493",
     "exception": false,
     "start_time": "2020-09-19T13:02:06.405003",
     "status": "completed"
    },
    "tags": []
   },
   "source": [
    "Graph this to look at the full set of 10 class predictions."
   ]
  },
  {
   "cell_type": "code",
   "execution_count": 22,
   "metadata": {
    "execution": {
     "iopub.execute_input": "2020-09-19T13:02:10.052580Z",
     "iopub.status.busy": "2020-09-19T13:02:10.051762Z",
     "iopub.status.idle": "2020-09-19T13:02:10.055559Z",
     "shell.execute_reply": "2020-09-19T13:02:10.054845Z"
    },
    "papermill": {
     "duration": 1.223238,
     "end_time": "2020-09-19T13:02:10.055694",
     "exception": false,
     "start_time": "2020-09-19T13:02:08.832456",
     "status": "completed"
    },
    "tags": []
   },
   "outputs": [],
   "source": [
    "import numpy as np\n",
    "def plot_image(i, predictions_array, true_label, img):\n",
    "  true_label, img = true_label[i], img[i]\n",
    "  plt.grid(False)\n",
    "  plt.xticks([])\n",
    "  plt.yticks([])\n",
    "\n",
    "  plt.imshow(img, cmap=plt.cm.binary)\n",
    "\n",
    "  predicted_label = np.argmax(predictions_array)\n",
    "  if predicted_label == true_label:\n",
    "    color = 'blue'\n",
    "  else:\n",
    "    color = 'red'\n",
    "\n",
    "  plt.xlabel(\"{} {:2.0f}% ({})\".format(class_names[predicted_label],\n",
    "                                100*np.max(predictions_array),\n",
    "                                class_names[true_label]),\n",
    "                                color=color)\n",
    "\n",
    "def plot_value_array(i, predictions_array, true_label):\n",
    "  true_label = true_label[i]\n",
    "  plt.grid(False)\n",
    "  plt.xticks(range(10))\n",
    "  plt.yticks([])\n",
    "  thisplot = plt.bar(range(10), predictions_array, color=\"#777777\")\n",
    "  plt.ylim([0, 1])\n",
    "  predicted_label = np.argmax(predictions_array)\n",
    "\n",
    "  thisplot[predicted_label].set_color('red')\n",
    "  thisplot[true_label].set_color('blue')"
   ]
  },
  {
   "cell_type": "markdown",
   "metadata": {
    "papermill": {
     "duration": 1.165924,
     "end_time": "2020-09-19T13:02:12.395634",
     "exception": false,
     "start_time": "2020-09-19T13:02:11.229710",
     "status": "completed"
    },
    "tags": []
   },
   "source": [
    "### Verify predictions\n",
    "\n",
    "With the model trained, you can use it to make predictions about some images."
   ]
  },
  {
   "cell_type": "markdown",
   "metadata": {
    "papermill": {
     "duration": 1.172798,
     "end_time": "2020-09-19T13:02:14.739417",
     "exception": false,
     "start_time": "2020-09-19T13:02:13.566619",
     "status": "completed"
    },
    "tags": []
   },
   "source": [
    "Let's look at the 0th image, predictions, and prediction array. Correct prediction labels are blue and incorrect prediction labels are red. The number gives the percentage (out of 100) for the predicted label."
   ]
  },
  {
   "cell_type": "code",
   "execution_count": 23,
   "metadata": {
    "execution": {
     "iopub.execute_input": "2020-09-19T13:02:17.093332Z",
     "iopub.status.busy": "2020-09-19T13:02:17.092473Z",
     "iopub.status.idle": "2020-09-19T13:02:17.251414Z",
     "shell.execute_reply": "2020-09-19T13:02:17.250735Z"
    },
    "papermill": {
     "duration": 1.344689,
     "end_time": "2020-09-19T13:02:17.251537",
     "exception": false,
     "start_time": "2020-09-19T13:02:15.906848",
     "status": "completed"
    },
    "tags": []
   },
   "outputs": [
    {
     "data": {
      "image/png": "[encoded data removed]",
      "text/plain": [
       "<Figure size 432x216 with 2 Axes>"
      ]
     },
     "metadata": {
      "needs_background": "light"
     },
     "output_type": "display_data"
    }
   ],
   "source": [
    "i = 0\n",
    "plt.figure(figsize=(6,3))\n",
    "plt.subplot(1,2,1)\n",
    "plot_image(i, predictions[i], test_labels, test_images)\n",
    "plt.subplot(1,2,2)\n",
    "plot_value_array(i, predictions[i],  test_labels)\n",
    "plt.show()"
   ]
  },
  {
   "cell_type": "code",
   "execution_count": 24,
   "metadata": {
    "execution": {
     "iopub.execute_input": "2020-09-19T13:02:19.652430Z",
     "iopub.status.busy": "2020-09-19T13:02:19.651645Z",
     "iopub.status.idle": "2020-09-19T13:02:19.803307Z",
     "shell.execute_reply": "2020-09-19T13:02:19.802643Z"
    },
    "papermill": {
     "duration": 1.380648,
     "end_time": "2020-09-19T13:02:19.803434",
     "exception": false,
     "start_time": "2020-09-19T13:02:18.422786",
     "status": "completed"
    },
    "tags": []
   },
   "outputs": [
    {
     "data": {
      "image/png": "[encoded data removed]",
      "text/plain": [
       "<Figure size 432x216 with 2 Axes>"
      ]
     },
     "metadata": {
      "needs_background": "light"
     },
     "output_type": "display_data"
    }
   ],
   "source": [
    "i = 12\n",
    "plt.figure(figsize=(6,3))\n",
    "plt.subplot(1,2,1)\n",
    "plot_image(i, predictions[i], test_labels, test_images)\n",
    "plt.subplot(1,2,2)\n",
    "plot_value_array(i, predictions[i],  test_labels)\n",
    "plt.show()"
   ]
  },
  {
   "cell_type": "markdown",
   "metadata": {
    "papermill": {
     "duration": 1.194856,
     "end_time": "2020-09-19T13:02:22.229684",
     "exception": false,
     "start_time": "2020-09-19T13:02:21.034828",
     "status": "completed"
    },
    "tags": []
   },
   "source": [
    "Let's plot several images with their predictions. Note that the model can be wrong even when very confident."
   ]
  },
  {
   "cell_type": "code",
   "execution_count": 25,
   "metadata": {
    "execution": {
     "iopub.execute_input": "2020-09-19T13:02:24.629884Z",
     "iopub.status.busy": "2020-09-19T13:02:24.628726Z",
     "iopub.status.idle": "2020-09-19T13:02:27.264798Z",
     "shell.execute_reply": "2020-09-19T13:02:27.264137Z"
    },
    "papermill": {
     "duration": 3.838836,
     "end_time": "2020-09-19T13:02:27.264924",
     "exception": false,
     "start_time": "2020-09-19T13:02:23.426088",
     "status": "completed"
    },
    "tags": []
   },
   "outputs": [
    {
     "name": "stdout",
     "output_type": "stream",
     "text": [
      "['T-shirt/top', 'Trouser', 'Pullover', 'Dress', 'Coat', 'Sandal', 'Shirt', 'Sneaker', 'Bag', 'Ankle boot']\n"
     ]
    },
    {
     "data": {
      "image/png": "[encoded data removed]",
      "text/plain": [
       "<Figure size 864x720 with 30 Axes>"
      ]
     },
     "metadata": {
      "needs_background": "light"
     },
     "output_type": "display_data"
    }
   ],
   "source": [
    "# Plot the first X test images, their predicted labels, and the true labels.\n",
    "# Color correct predictions in blue and incorrect predictions in red.\n",
    "print(class_names)\n",
    "num_rows = 5\n",
    "num_cols = 3\n",
    "num_images = num_rows*num_cols\n",
    "plt.figure(figsize=(2*2*num_cols, 2*num_rows))\n",
    "for i in range(num_images):\n",
    "  plt.subplot(num_rows, 2*num_cols, 2*i+1)\n",
    "  plot_image(i, predictions[i], test_labels, test_images)\n",
    "  plt.subplot(num_rows, 2*num_cols, 2*i+2)\n",
    "  plot_value_array(i, predictions[i], test_labels)\n",
    "plt.tight_layout()\n",
    "plt.show()"
   ]
  },
  {
   "cell_type": "markdown",
   "metadata": {
    "papermill": {
     "duration": 1.208827,
     "end_time": "2020-09-19T13:02:29.654465",
     "exception": false,
     "start_time": "2020-09-19T13:02:28.445638",
     "status": "completed"
    },
    "tags": []
   },
   "source": [
    "## Use the trained model\n",
    "\n",
    "Finally, use the trained model to make a prediction about a single image."
   ]
  },
  {
   "cell_type": "markdown",
   "metadata": {
    "papermill": {
     "duration": 1.242343,
     "end_time": "2020-09-19T13:02:32.091678",
     "exception": false,
     "start_time": "2020-09-19T13:02:30.849335",
     "status": "completed"
    },
    "tags": []
   },
   "source": [
    "## Use the trained model\n",
    "\n",
    "Finally, use the trained model to make a prediction about a single image."
   ]
  },
  {
   "cell_type": "code",
   "execution_count": 26,
   "metadata": {
    "execution": {
     "iopub.execute_input": "2020-09-19T13:02:34.511700Z",
     "iopub.status.busy": "2020-09-19T13:02:34.510696Z",
     "iopub.status.idle": "2020-09-19T13:02:34.515301Z",
     "shell.execute_reply": "2020-09-19T13:02:34.514354Z"
    },
    "papermill": {
     "duration": 1.197124,
     "end_time": "2020-09-19T13:02:34.515466",
     "exception": false,
     "start_time": "2020-09-19T13:02:33.318342",
     "status": "completed"
    },
    "tags": []
   },
   "outputs": [
    {
     "name": "stdout",
     "output_type": "stream",
     "text": [
      "(28, 28)\n"
     ]
    }
   ],
   "source": [
    "# Grab an image from the test dataset.\n",
    "img = test_images[1]\n",
    "\n",
    "print(img.shape)"
   ]
  },
  {
   "cell_type": "code",
   "execution_count": 27,
   "metadata": {
    "execution": {
     "iopub.execute_input": "2020-09-19T13:02:37.079765Z",
     "iopub.status.busy": "2020-09-19T13:02:37.078724Z",
     "iopub.status.idle": "2020-09-19T13:02:37.083116Z",
     "shell.execute_reply": "2020-09-19T13:02:37.082373Z"
    },
    "papermill": {
     "duration": 1.281137,
     "end_time": "2020-09-19T13:02:37.083394",
     "exception": false,
     "start_time": "2020-09-19T13:02:35.802257",
     "status": "completed"
    },
    "tags": []
   },
   "outputs": [
    {
     "name": "stdout",
     "output_type": "stream",
     "text": [
      "(1, 28, 28)\n"
     ]
    }
   ],
   "source": [
    "# Add the image to a batch where it's the only member.\n",
    "img = (np.expand_dims(img,0))\n",
    "\n",
    "print(img.shape)"
   ]
  },
  {
   "cell_type": "code",
   "execution_count": 28,
   "metadata": {
    "execution": {
     "iopub.execute_input": "2020-09-19T13:02:39.440256Z",
     "iopub.status.busy": "2020-09-19T13:02:39.439371Z",
     "iopub.status.idle": "2020-09-19T13:02:39.484821Z",
     "shell.execute_reply": "2020-09-19T13:02:39.483589Z"
    },
    "papermill": {
     "duration": 1.224179,
     "end_time": "2020-09-19T13:02:39.485005",
     "exception": false,
     "start_time": "2020-09-19T13:02:38.260826",
     "status": "completed"
    },
    "tags": []
   },
   "outputs": [
    {
     "name": "stdout",
     "output_type": "stream",
     "text": [
      "[[1.7433231e-04 6.3100465e-14 9.9951982e-01 9.6153203e-11 1.2477244e-04\n",
      "  4.3317495e-11 1.8117062e-04 2.3655734e-21 2.9257499e-09 5.6859702e-14]]\n"
     ]
    }
   ],
   "source": [
    "predictions_single = probability_model.predict(img)\n",
    "\n",
    "print(predictions_single)"
   ]
  },
  {
   "cell_type": "code",
   "execution_count": 29,
   "metadata": {
    "execution": {
     "iopub.execute_input": "2020-09-19T13:02:41.858919Z",
     "iopub.status.busy": "2020-09-19T13:02:41.858107Z",
     "iopub.status.idle": "2020-09-19T13:02:41.966494Z",
     "shell.execute_reply": "2020-09-19T13:02:41.965663Z"
    },
    "papermill": {
     "duration": 1.302664,
     "end_time": "2020-09-19T13:02:41.966621",
     "exception": false,
     "start_time": "2020-09-19T13:02:40.663957",
     "status": "completed"
    },
    "tags": []
   },
   "outputs": [
    {
     "data": {
      "image/png": "[encoded data removed]",
      "text/plain": [
       "<Figure size 432x288 with 1 Axes>"
      ]
     },
     "metadata": {
      "needs_background": "light"
     },
     "output_type": "display_data"
    }
   ],
   "source": [
    "plot_value_array(1, predictions_single[0], test_labels)\n",
    "_ = plt.xticks(range(10), class_names, rotation=45)"
   ]
  },
  {
   "cell_type": "markdown",
   "metadata": {
    "papermill": {
     "duration": 1.182602,
     "end_time": "2020-09-19T13:02:44.393899",
     "exception": false,
     "start_time": "2020-09-19T13:02:43.211297",
     "status": "completed"
    },
    "tags": []
   },
   "source": [
    "### I hope with this you can start your journey into the world of Deep Learning"
   ]
  },
  {
   "cell_type": "code",
   "execution_count": null,
   "metadata": {
    "papermill": {
     "duration": 1.182909,
     "end_time": "2020-09-19T13:02:46.757120",
     "exception": false,
     "start_time": "2020-09-19T13:02:45.574211",
     "status": "completed"
    },
    "tags": []
   },
   "outputs": [],
   "source": []
  }
 ],
 "metadata": {
  "kernelspec": {
   "display_name": "Python 3",
   "language": "python",
   "name": "python3"
  },
  "language_info": {
   "codemirror_mode": {
    "name": "ipython",
    "version": 3
   },
   "file_extension": ".py",
   "mimetype": "text/x-python",
   "name": "python",
   "nbconvert_exporter": "python",
   "pygments_lexer": "ipython3",
   "version": "3.7.6"
  },
  "papermill": {
   "duration": 233.290336,
   "end_time": "2020-09-19T13:02:48.241006",
   "environment_variables": {},
   "exception": null,
   "input_path": "__notebook__.ipynb",
   "output_path": "__notebook__.ipynb",
   "parameters": {},
   "start_time": "2020-09-19T12:58:54.950670",
   "version": "2.1.0"
  }
 },
 "nbformat": 4,
 "nbformat_minor": 4
}
